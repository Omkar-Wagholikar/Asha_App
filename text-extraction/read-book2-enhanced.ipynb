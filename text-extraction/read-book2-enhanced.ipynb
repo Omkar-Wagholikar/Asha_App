{
 "cells": [
  {
   "cell_type": "code",
   "execution_count": 2,
   "metadata": {},
   "outputs": [],
   "source": [
    "from operator import itemgetter\n",
    "import fitz\n",
    "import json"
   ]
  },
  {
   "cell_type": "code",
   "execution_count": 3,
   "metadata": {},
   "outputs": [],
   "source": [
    "def fonts(doc, granularity=False):\n",
    "    \"\"\"Extracts fonts and their usage in PDF documents.\n",
    "\n",
    "    :param doc: PDF document to iterate through\n",
    "    :type doc: <class 'fitz.fitz.Document'>\n",
    "    :param granularity: also use 'font', 'flags' and 'color' to discriminate text\n",
    "    :type granularity: bool\n",
    "\n",
    "    :rtype: [(font_size, count), (font_size, count}], dict\n",
    "    :return: most used fonts sorted by count, font style information\n",
    "    \"\"\"\n",
    "    styles = {}\n",
    "    font_counts = {}\n",
    "\n",
    "    for page in doc:\n",
    "        blocks = page.get_text(\"dict\")[\"blocks\"]\n",
    "        for b in blocks:  # iterate through the text blocks\n",
    "            if b['type'] == 0:  # block contains text\n",
    "                for l in b[\"lines\"]:  # iterate through the text lines\n",
    "                    for s in l[\"spans\"]:  # iterate through the text spans\n",
    "                        if granularity:\n",
    "                            identifier = \"{0}_{1}_{2}_{3}\".format(s['size'], s['flags'], s['font'], s['color'])\n",
    "                            styles[identifier] = {'size': s['size'], 'flags': s['flags'], 'font': s['font'],\n",
    "                                                  'color': s['color']}\n",
    "                        else:\n",
    "                            identifier = \"{0}\".format(s['size'])\n",
    "                            styles[identifier] = {'size': s['size'], 'font': s['font']}\n",
    "\n",
    "                        font_counts[identifier] = font_counts.get(identifier, 0) + 1  # count the fonts usage\n",
    "\n",
    "    font_counts = sorted(font_counts.items(), key=itemgetter(1), reverse=True)\n",
    "\n",
    "    if len(font_counts) < 1:\n",
    "        raise ValueError(\"Zero discriminating fonts found!\")\n",
    "\n",
    "    return font_counts, styles"
   ]
  },
  {
   "cell_type": "code",
   "execution_count": 4,
   "metadata": {},
   "outputs": [],
   "source": [
    "def font_tags(font_counts, styles):\n",
    "    \"\"\"Returns dictionary with font sizes as keys and tags as value.\n",
    "\n",
    "    :param font_counts: (font_size, count) for all fonts occuring in document\n",
    "    :type font_counts: list\n",
    "    :param styles: all styles found in the document\n",
    "    :type styles: dict\n",
    "\n",
    "    :rtype: dict\n",
    "    :return: all element tags based on font-sizes\n",
    "    \"\"\"\n",
    "    p_style = styles[font_counts[0][0]]  # get style for most used font by count (paragraph)\n",
    "    p_size = p_style['size']  # get the paragraph's size\n",
    "\n",
    "    # sorting the font sizes high to low, so that we can append the right integer to each tag\n",
    "    font_sizes = []\n",
    "    for (font_size, count) in font_counts:\n",
    "        font_sizes.append(float(font_size))\n",
    "    font_sizes.sort(reverse=True)\n",
    "\n",
    "    # aggregating the tags for each font size\n",
    "    idx = 0\n",
    "    size_tag = {}\n",
    "    for size in font_sizes:\n",
    "        idx += 1\n",
    "        if size == p_size:\n",
    "            idx = 0\n",
    "            size_tag[size] = '<p>'\n",
    "        if size > p_size:\n",
    "            size_tag[size] = '<h{0}>'.format(idx)\n",
    "        elif size < p_size:\n",
    "            size_tag[size] = '<s{0}>'.format(idx)\n",
    "\n",
    "    return size_tag"
   ]
  },
  {
   "cell_type": "code",
   "execution_count": 5,
   "metadata": {},
   "outputs": [],
   "source": [
    "def headers_para(doc, size_tag, pageCount):\n",
    "    \"\"\"Scrapes headers & paragraphs from PDF and save each paragraph in a file with headers in the next file.\n",
    "    :param doc: PDF document to iterate through\n",
    "    :type doc: <class 'fitz.fitz.Document'>\n",
    "    :param size_tag: textual element tags for each size\n",
    "    :type size_tag: dict\n",
    "    :param pageCount: the maximum number of pages to process\n",
    "    :type pageCount: int\n",
    "    \"\"\"\n",
    "    count = 0  # Paragraph number\n",
    "    header_text = \"\"\n",
    "    \n",
    "    for page_num, page in enumerate(doc, start=1):\n",
    "        if count >= pageCount:\n",
    "            break\n",
    "        count+=1\n",
    "        blocks = page.get_text(\"dict\")[\"blocks\"]\n",
    "        paraCount = 1\n",
    "        for b in blocks:  # iterate through the text blocks\n",
    "            if b['type'] == 0:  # this block contains text\n",
    "                # REMEMBER: multiple fonts and sizes are possible IN one block\n",
    "                block_string = \"\"  # text found in block\n",
    "                \n",
    "                for l in b[\"lines\"]:  # iterate through the text lines\n",
    "                    for s in l[\"spans\"]:  # iterate through the text spans\n",
    "                        if s['text'].strip():  # removing whitespaces\n",
    "                            if not header_text:\n",
    "                                header_text = size_tag[s['size']] + s['text']\n",
    "                            else:\n",
    "                                paraCount += 1\n",
    "                                filename = f\"C:/Users/DELL/Desktop/Asha/text-as-page/page_{page_num}_para_{paraCount}.txt\"\n",
    "                                with open(filename, 'w', encoding='utf-8') as text_file:\n",
    "                                    text_file.write(header_text + \"\\n\" + size_tag[s['size']] + s['text'])\n",
    "                                header_text = \"\"\n",
    "    \n",
    "    return\n",
    "\n",
    "# Example usage:\n",
    "# Replace 'doc' and 'size_tag' with your PDF document and size tag dictionary\n",
    "# Replace 'pageCount' with the desired maximum number of pages to process\n",
    "# headers_para(doc, size_tag, pageCount)\n"
   ]
  },
  {
   "cell_type": "code",
   "execution_count": 6,
   "metadata": {},
   "outputs": [],
   "source": [
    "\n",
    "document = 'C:/Users/DELL/Desktop/Asha/pdfs/book-no-1.pdf'\n",
    "doc = fitz.open(document)\n",
    "page = doc[0]\n",
    "\n",
    "font_counts, styles = fonts(doc, granularity=False)\n",
    "\n",
    "size_tag = font_tags(font_counts, styles)\n",
    "\n",
    "elements = headers_para(doc, size_tag, 65)"
   ]
  },
  {
   "cell_type": "code",
   "execution_count": 7,
   "metadata": {},
   "outputs": [],
   "source": [
    "# with open(\"C:/Users/DELL/Desktop/Asha/text-as-page/test.txt\", 'w') as json_out:\n",
    "#     json.dump(elements, json_out)"
   ]
  },
  {
   "cell_type": "code",
   "execution_count": 8,
   "metadata": {},
   "outputs": [
    {
     "data": {
      "text/plain": [
       "{63.321998596191406: '<h1>',\n",
       " 40.0: '<h2>',\n",
       " 36.0: '<h3>',\n",
       " 32.0: '<h4>',\n",
       " 23.95800018310547: '<h5>',\n",
       " 22.0: '<h6>',\n",
       " 13.0: '<h7>',\n",
       " 12.0: '<h8>',\n",
       " 11.0: '<p>',\n",
       " 10.0: '<s1>',\n",
       " 9.0: '<s2>',\n",
       " 8.0: '<s3>',\n",
       " 7.155417442321777: '<s4>',\n",
       " 6.0: '<s5>',\n",
       " 3.6989998817443848: '<s6>'}"
      ]
     },
     "execution_count": 8,
     "metadata": {},
     "output_type": "execute_result"
    }
   ],
   "source": [
    "size_tag"
   ]
  },
  {
   "cell_type": "code",
   "execution_count": 10,
   "metadata": {},
   "outputs": [
    {
     "name": "stdout",
     "output_type": "stream",
     "text": [
      "All files in the folder have been deleted.\n"
     ]
    }
   ],
   "source": [
    "# # Clear the folder\n",
    "import os\n",
    "\n",
    "folder_path = \"C:/Users/DELL/Desktop/Asha/text-as-page\"  # Replace with the path to your folder\n",
    "\n",
    "# Iterate over the files in the folder and delete them\n",
    "for filename in os.listdir(folder_path):\n",
    "    file_path = os.path.join(folder_path, filename)\n",
    "    try:\n",
    "        if os.path.isfile(file_path):\n",
    "            os.remove(file_path)\n",
    "    except Exception as e:\n",
    "        print(f\"Error deleting {file_path}: {e}\")\n",
    "\n",
    "print(\"All files in the folder have been deleted.\")"
   ]
  },
  {
   "cell_type": "code",
   "execution_count": null,
   "metadata": {},
   "outputs": [],
   "source": []
  }
 ],
 "metadata": {
  "kernelspec": {
   "display_name": "Python 3",
   "language": "python",
   "name": "python3"
  },
  "language_info": {
   "codemirror_mode": {
    "name": "ipython",
    "version": 3
   },
   "file_extension": ".py",
   "mimetype": "text/x-python",
   "name": "python",
   "nbconvert_exporter": "python",
   "pygments_lexer": "ipython3",
   "version": "3.11.3"
  },
  "orig_nbformat": 4
 },
 "nbformat": 4,
 "nbformat_minor": 2
}
