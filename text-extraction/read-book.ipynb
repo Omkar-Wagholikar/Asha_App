{
 "cells": [
  {
   "cell_type": "code",
   "execution_count": 7,
   "metadata": {},
   "outputs": [],
   "source": [
    "import PyPDF2"
   ]
  },
  {
   "cell_type": "code",
   "execution_count": 8,
   "metadata": {},
   "outputs": [],
   "source": [
    "pdfFileObj = open('C:/Users/DELL/Desktop/Asha/pdfs/book-no-1.pdf', 'rb')\n",
    "pdfReader = PyPDF2.PdfReader(pdfFileObj)"
   ]
  },
  {
   "cell_type": "code",
   "execution_count": null,
   "metadata": {},
   "outputs": [],
   "source": [
    "print(pdfReader.pages)"
   ]
  },
  {
   "cell_type": "code",
   "execution_count": null,
   "metadata": {},
   "outputs": [],
   "source": [
    "for p in range(13, 30):\n",
    "    pageObj = pdfReader.pages[p]\n",
    "    print(pageObj.extract_text())\n",
    "    # f = open(f\"text-as-page/page{p}.txt\", \"w\")\n",
    "    # f.write(pageObj.extract_text().replace(\"\", \"\"))\n",
    "    # f.close()\n",
    "pdfFileObj.close()"
   ]
  }
 ],
 "metadata": {
  "kernelspec": {
   "display_name": "Python 3",
   "language": "python",
   "name": "python3"
  },
  "language_info": {
   "codemirror_mode": {
    "name": "ipython",
    "version": 3
   },
   "file_extension": ".py",
   "mimetype": "text/x-python",
   "name": "python",
   "nbconvert_exporter": "python",
   "pygments_lexer": "ipython3",
   "version": "3.11.3"
  },
  "orig_nbformat": 4
 },
 "nbformat": 4,
 "nbformat_minor": 2
}
