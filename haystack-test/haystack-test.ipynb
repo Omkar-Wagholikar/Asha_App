{
 "cells": [
  {
   "cell_type": "code",
   "execution_count": 1,
   "metadata": {},
   "outputs": [],
   "source": [
    "import logging\n",
    "\n",
    "logging.basicConfig(format=\"%(levelname)s - %(name)s -  %(message)s\", level=logging.WARNING)\n",
    "logging.getLogger(\"haystack\").setLevel(logging.INFO)"
   ]
  },
  {
   "cell_type": "code",
   "execution_count": 2,
   "metadata": {},
   "outputs": [
    {
     "name": "stderr",
     "output_type": "stream",
     "text": [
      "h:\\models\\haystack-test\\.venv\\Lib\\site-packages\\tqdm\\auto.py:21: TqdmWarning: IProgress not found. Please update jupyter and ipywidgets. See https://ipywidgets.readthedocs.io/en/stable/user_install.html\n",
      "  from .autonotebook import tqdm as notebook_tqdm\n"
     ]
    }
   ],
   "source": [
    "import torch\n",
    "from haystack.utils import clean_wiki_text\n",
    "from haystack.utils import convert_files_to_docs\n",
    "from haystack.utils import fetch_archive_from_http\n",
    "from haystack.utils import print_answers\n",
    "from haystack.nodes import FARMReader, TransformersReader"
   ]
  },
  {
   "cell_type": "code",
   "execution_count": 3,
   "metadata": {},
   "outputs": [
    {
     "name": "stderr",
     "output_type": "stream",
     "text": [
      "INFO - haystack.utils.preprocessing -  Converting C:\\Users\\DELL\\Desktop\\Asha\\text-as-page\\book-no-4-page-1.txt\n",
      "INFO - haystack.utils.preprocessing -  Converting C:\\Users\\DELL\\Desktop\\Asha\\text-as-page\\book-no-4-page-10.txt\n",
      "INFO - haystack.utils.preprocessing -  Converting C:\\Users\\DELL\\Desktop\\Asha\\text-as-page\\book-no-4-page-11.txt\n",
      "INFO - haystack.utils.preprocessing -  Converting C:\\Users\\DELL\\Desktop\\Asha\\text-as-page\\book-no-4-page-12.txt\n",
      "INFO - haystack.utils.preprocessing -  Converting C:\\Users\\DELL\\Desktop\\Asha\\text-as-page\\book-no-4-page-13.txt\n",
      "INFO - haystack.utils.preprocessing -  Converting C:\\Users\\DELL\\Desktop\\Asha\\text-as-page\\book-no-4-page-14.txt\n",
      "INFO - haystack.utils.preprocessing -  Converting C:\\Users\\DELL\\Desktop\\Asha\\text-as-page\\book-no-4-page-15.txt\n",
      "INFO - haystack.utils.preprocessing -  Converting C:\\Users\\DELL\\Desktop\\Asha\\text-as-page\\book-no-4-page-16.txt\n",
      "INFO - haystack.utils.preprocessing -  Converting C:\\Users\\DELL\\Desktop\\Asha\\text-as-page\\book-no-4-page-17.txt\n",
      "INFO - haystack.utils.preprocessing -  Converting C:\\Users\\DELL\\Desktop\\Asha\\text-as-page\\book-no-4-page-18.txt\n",
      "INFO - haystack.utils.preprocessing -  Converting C:\\Users\\DELL\\Desktop\\Asha\\text-as-page\\book-no-4-page-19.txt\n",
      "INFO - haystack.utils.preprocessing -  Converting C:\\Users\\DELL\\Desktop\\Asha\\text-as-page\\book-no-4-page-2.txt\n",
      "INFO - haystack.utils.preprocessing -  Converting C:\\Users\\DELL\\Desktop\\Asha\\text-as-page\\book-no-4-page-20.txt\n",
      "INFO - haystack.utils.preprocessing -  Converting C:\\Users\\DELL\\Desktop\\Asha\\text-as-page\\book-no-4-page-21.txt\n",
      "INFO - haystack.utils.preprocessing -  Converting C:\\Users\\DELL\\Desktop\\Asha\\text-as-page\\book-no-4-page-22.txt\n",
      "INFO - haystack.utils.preprocessing -  Converting C:\\Users\\DELL\\Desktop\\Asha\\text-as-page\\book-no-4-page-23.txt\n",
      "INFO - haystack.utils.preprocessing -  Converting C:\\Users\\DELL\\Desktop\\Asha\\text-as-page\\book-no-4-page-24.txt\n",
      "INFO - haystack.utils.preprocessing -  Converting C:\\Users\\DELL\\Desktop\\Asha\\text-as-page\\book-no-4-page-25.txt\n",
      "INFO - haystack.utils.preprocessing -  Converting C:\\Users\\DELL\\Desktop\\Asha\\text-as-page\\book-no-4-page-26.txt\n",
      "INFO - haystack.utils.preprocessing -  Converting C:\\Users\\DELL\\Desktop\\Asha\\text-as-page\\book-no-4-page-27.txt\n",
      "INFO - haystack.utils.preprocessing -  Converting C:\\Users\\DELL\\Desktop\\Asha\\text-as-page\\book-no-4-page-28.txt\n",
      "INFO - haystack.utils.preprocessing -  Converting C:\\Users\\DELL\\Desktop\\Asha\\text-as-page\\book-no-4-page-29.txt\n",
      "INFO - haystack.utils.preprocessing -  Converting C:\\Users\\DELL\\Desktop\\Asha\\text-as-page\\book-no-4-page-3.txt\n",
      "INFO - haystack.utils.preprocessing -  Converting C:\\Users\\DELL\\Desktop\\Asha\\text-as-page\\book-no-4-page-30.txt\n",
      "INFO - haystack.utils.preprocessing -  Converting C:\\Users\\DELL\\Desktop\\Asha\\text-as-page\\book-no-4-page-31.txt\n",
      "INFO - haystack.utils.preprocessing -  Converting C:\\Users\\DELL\\Desktop\\Asha\\text-as-page\\book-no-4-page-32.txt\n",
      "INFO - haystack.utils.preprocessing -  Converting C:\\Users\\DELL\\Desktop\\Asha\\text-as-page\\book-no-4-page-33.txt\n",
      "INFO - haystack.utils.preprocessing -  Converting C:\\Users\\DELL\\Desktop\\Asha\\text-as-page\\book-no-4-page-4.txt\n",
      "INFO - haystack.utils.preprocessing -  Converting C:\\Users\\DELL\\Desktop\\Asha\\text-as-page\\book-no-4-page-5.txt\n",
      "INFO - haystack.utils.preprocessing -  Converting C:\\Users\\DELL\\Desktop\\Asha\\text-as-page\\book-no-4-page-6.txt\n",
      "INFO - haystack.utils.preprocessing -  Converting C:\\Users\\DELL\\Desktop\\Asha\\text-as-page\\book-no-4-page-7.txt\n",
      "INFO - haystack.utils.preprocessing -  Converting C:\\Users\\DELL\\Desktop\\Asha\\text-as-page\\book-no-4-page-8.txt\n",
      "INFO - haystack.utils.preprocessing -  Converting C:\\Users\\DELL\\Desktop\\Asha\\text-as-page\\book-no-4-page-9.txt\n"
     ]
    }
   ],
   "source": [
    "# doc_dir = \"/content/drive/MyDrive/Asha/text-as-page\"\n",
    "doc_dir = \"C:/Users/DELL/Desktop/Asha/text-as-page\"\n",
    "# C:\\Users\\DELL\\Desktop\\Asha\\text-as-page\n",
    "\n",
    "\n",
    "# Convert files to dicts\n",
    "# You can optionally supply a cleaning function that is applied to each doc (e.g. to remove footers)\n",
    "# It must take a str as input, and return a str.\n",
    "\n",
    "docs = convert_files_to_docs(dir_path=doc_dir, clean_func=clean_wiki_text, split_paragraphs=True)"
   ]
  },
  {
   "cell_type": "code",
   "execution_count": 4,
   "metadata": {},
   "outputs": [
    {
     "name": "stderr",
     "output_type": "stream",
     "text": [
      "'sleep' is not recognized as an internal or external command,\n",
      "operable program or batch file.\n"
     ]
    }
   ],
   "source": [
    "import os\n",
    "from subprocess import Popen, PIPE, STDOUT\n",
    "\n",
    "# es_server = Popen(\n",
    "#     [\"G:/models/elastic-search/elasticsearch-8.10.4/binelasticsearch\"], stdout=PIPE, stderr=STDOUT, preexec_fn=lambda: os.setuid(1)\n",
    "# )\n",
    "\n",
    "es_server = Popen(\n",
    "    [\"H:/models/elastic-test/elasticsearch-8.10.4-windows-x86_64/elasticsearch-8.10.4/bin/elasticsearch.bat\"], stdout=PIPE, stderr=STDOUT\n",
    ")\n",
    "\n",
    "\n",
    "! sleep 30"
   ]
  },
  {
   "cell_type": "code",
   "execution_count": 6,
   "metadata": {},
   "outputs": [
    {
     "name": "stderr",
     "output_type": "stream",
     "text": [
      "WARNING - elasticsearch -  GET http://localhost:9200/ [status:N/A request:4.116s]\n",
      "Traceback (most recent call last):\n",
      "  File \"h:\\models\\haystack-test\\.venv\\Lib\\site-packages\\urllib3\\connection.py\", line 174, in _new_conn\n",
      "    conn = connection.create_connection(\n",
      "           ^^^^^^^^^^^^^^^^^^^^^^^^^^^^^\n",
      "  File \"h:\\models\\haystack-test\\.venv\\Lib\\site-packages\\urllib3\\util\\connection.py\", line 95, in create_connection\n",
      "    raise err\n",
      "  File \"h:\\models\\haystack-test\\.venv\\Lib\\site-packages\\urllib3\\util\\connection.py\", line 85, in create_connection\n",
      "    sock.connect(sa)\n",
      "ConnectionRefusedError: [WinError 10061] No connection could be made because the target machine actively refused it\n",
      "\n",
      "During handling of the above exception, another exception occurred:\n",
      "\n",
      "Traceback (most recent call last):\n",
      "  File \"h:\\models\\haystack-test\\.venv\\Lib\\site-packages\\elasticsearch\\connection\\http_urllib3.py\", line 255, in perform_request\n",
      "    response = self.pool.urlopen(\n",
      "               ^^^^^^^^^^^^^^^^^^\n",
      "  File \"h:\\models\\haystack-test\\.venv\\Lib\\site-packages\\urllib3\\connectionpool.py\", line 799, in urlopen\n",
      "    retries = retries.increment(\n",
      "              ^^^^^^^^^^^^^^^^^^\n",
      "  File \"h:\\models\\haystack-test\\.venv\\Lib\\site-packages\\urllib3\\util\\retry.py\", line 525, in increment\n",
      "    raise six.reraise(type(error), error, _stacktrace)\n",
      "          ^^^^^^^^^^^^^^^^^^^^^^^^^^^^^^^^^^^^^^^^^^^^\n",
      "  File \"h:\\models\\haystack-test\\.venv\\Lib\\site-packages\\urllib3\\packages\\six.py\", line 770, in reraise\n",
      "    raise value\n",
      "  File \"h:\\models\\haystack-test\\.venv\\Lib\\site-packages\\urllib3\\connectionpool.py\", line 715, in urlopen\n",
      "    httplib_response = self._make_request(\n",
      "                       ^^^^^^^^^^^^^^^^^^^\n",
      "  File \"h:\\models\\haystack-test\\.venv\\Lib\\site-packages\\urllib3\\connectionpool.py\", line 416, in _make_request\n",
      "    conn.request(method, url, **httplib_request_kw)\n",
      "  File \"h:\\models\\haystack-test\\.venv\\Lib\\site-packages\\urllib3\\connection.py\", line 244, in request\n",
      "    super(HTTPConnection, self).request(method, url, body=body, headers=headers)\n",
      "  File \"C:\\Users\\DELL\\AppData\\Local\\Programs\\Python\\Python311\\Lib\\http\\client.py\", line 1283, in request\n",
      "    self._send_request(method, url, body, headers, encode_chunked)\n",
      "  File \"C:\\Users\\DELL\\AppData\\Local\\Programs\\Python\\Python311\\Lib\\http\\client.py\", line 1329, in _send_request\n",
      "    self.endheaders(body, encode_chunked=encode_chunked)\n",
      "  File \"C:\\Users\\DELL\\AppData\\Local\\Programs\\Python\\Python311\\Lib\\http\\client.py\", line 1278, in endheaders\n",
      "    self._send_output(message_body, encode_chunked=encode_chunked)\n",
      "  File \"C:\\Users\\DELL\\AppData\\Local\\Programs\\Python\\Python311\\Lib\\http\\client.py\", line 1038, in _send_output\n",
      "    self.send(msg)\n",
      "  File \"C:\\Users\\DELL\\AppData\\Local\\Programs\\Python\\Python311\\Lib\\http\\client.py\", line 976, in send\n",
      "    self.connect()\n",
      "  File \"h:\\models\\haystack-test\\.venv\\Lib\\site-packages\\urllib3\\connection.py\", line 205, in connect\n",
      "    conn = self._new_conn()\n",
      "           ^^^^^^^^^^^^^^^^\n",
      "  File \"h:\\models\\haystack-test\\.venv\\Lib\\site-packages\\urllib3\\connection.py\", line 186, in _new_conn\n",
      "    raise NewConnectionError(\n",
      "urllib3.exceptions.NewConnectionError: <urllib3.connection.HTTPConnection object at 0x000001699F8E0AD0>: Failed to establish a new connection: [WinError 10061] No connection could be made because the target machine actively refused it\n"
     ]
    },
    {
     "ename": "ConnectionError",
     "evalue": "Initial connection to Elasticsearch failed. Make sure you run an Elasticsearch instance at `[{'host': 'localhost', 'port': 9200}]` and that it has finished the initial ramp up (can take > 30s).",
     "output_type": "error",
     "traceback": [
      "\u001b[1;31m---------------------------------------------------------------------------\u001b[0m",
      "\u001b[1;31mConnectionError\u001b[0m                           Traceback (most recent call last)",
      "File \u001b[1;32mh:\\models\\haystack-test\\.venv\\Lib\\site-packages\\haystack\\document_stores\\elasticsearch\\es7.py:270\u001b[0m, in \u001b[0;36mElasticsearchDocumentStore._init_elastic_client\u001b[1;34m(host, port, username, password, api_key_id, api_key, aws4auth, scheme, ca_certs, verify_certs, timeout, use_system_proxy)\u001b[0m\n\u001b[0;32m    269\u001b[0m         \u001b[38;5;28;01mif\u001b[39;00m \u001b[38;5;129;01mnot\u001b[39;00m status:\n\u001b[1;32m--> 270\u001b[0m             \u001b[38;5;28;01mraise\u001b[39;00m \u001b[38;5;167;01mConnectionError\u001b[39;00m(\n\u001b[0;32m    271\u001b[0m                 \u001b[38;5;124mf\u001b[39m\u001b[38;5;124m\"\u001b[39m\u001b[38;5;124mInitial connection to Elasticsearch failed. Make sure you run an Elasticsearch instance \u001b[39m\u001b[38;5;124m\"\u001b[39m\n\u001b[0;32m    272\u001b[0m                 \u001b[38;5;124mf\u001b[39m\u001b[38;5;124m\"\u001b[39m\u001b[38;5;124mat `\u001b[39m\u001b[38;5;132;01m{\u001b[39;00mhosts\u001b[38;5;132;01m}\u001b[39;00m\u001b[38;5;124m` and that it has finished the initial ramp up (can take > 30s).\u001b[39m\u001b[38;5;124m\"\u001b[39m\n\u001b[0;32m    273\u001b[0m             )\n\u001b[0;32m    274\u001b[0m \u001b[38;5;28;01mexcept\u001b[39;00m \u001b[38;5;167;01mException\u001b[39;00m:\n",
      "\u001b[1;31mConnectionError\u001b[0m: Initial connection to Elasticsearch failed. Make sure you run an Elasticsearch instance at `[{'host': 'localhost', 'port': 9200}]` and that it has finished the initial ramp up (can take > 30s).",
      "\nDuring handling of the above exception, another exception occurred:\n",
      "\u001b[1;31mConnectionError\u001b[0m                           Traceback (most recent call last)",
      "Cell \u001b[1;32mIn[6], line 4\u001b[0m\n\u001b[0;32m      1\u001b[0m \u001b[38;5;28;01mfrom\u001b[39;00m \u001b[38;5;21;01mhaystack\u001b[39;00m\u001b[38;5;21;01m.\u001b[39;00m\u001b[38;5;21;01mdocument_stores\u001b[39;00m \u001b[38;5;28;01mimport\u001b[39;00m ElasticsearchDocumentStore\n\u001b[0;32m      2\u001b[0m \u001b[38;5;66;03m# ========================================\u001b[39;00m\n\u001b[0;32m      3\u001b[0m \u001b[38;5;66;03m# document_store = ElasticsearchDocumentStore(host=\"localhost\", username=\"\", password=\"\", index=\"document2\")\u001b[39;00m\n\u001b[1;32m----> 4\u001b[0m document_store \u001b[38;5;241m=\u001b[39m \u001b[43mElasticsearchDocumentStore\u001b[49m\u001b[43m(\u001b[49m\n\u001b[0;32m      5\u001b[0m \u001b[43m    \u001b[49m\u001b[43mhost\u001b[49m\u001b[38;5;241;43m=\u001b[39;49m\u001b[38;5;124;43m\"\u001b[39;49m\u001b[38;5;124;43mlocalhost\u001b[39;49m\u001b[38;5;124;43m\"\u001b[39;49m\u001b[43m,\u001b[49m\u001b[43m  \u001b[49m\u001b[38;5;66;43;03m# Use the HTTPS scheme\u001b[39;49;00m\n\u001b[0;32m      6\u001b[0m \u001b[43m    \u001b[49m\u001b[43musername\u001b[49m\u001b[38;5;241;43m=\u001b[39;49m\u001b[38;5;124;43m\"\u001b[39;49m\u001b[38;5;124;43melastic\u001b[39;49m\u001b[38;5;124;43m\"\u001b[39;49m\u001b[43m,\u001b[49m\n\u001b[0;32m      7\u001b[0m \u001b[43m    \u001b[49m\u001b[43mpassword\u001b[49m\u001b[38;5;241;43m=\u001b[39;49m\u001b[38;5;124;43m\"\u001b[39;49m\u001b[38;5;124;43m0MNn3loYMbrQrsBz_yDR\u001b[39;49m\u001b[38;5;124;43m\"\u001b[39;49m\u001b[43m,\u001b[49m\n\u001b[0;32m      8\u001b[0m \u001b[43m    \u001b[49m\u001b[43mindex\u001b[49m\u001b[38;5;241;43m=\u001b[39;49m\u001b[38;5;124;43m\"\u001b[39;49m\u001b[38;5;124;43mtest-book-no-4\u001b[39;49m\u001b[38;5;124;43m\"\u001b[39;49m\u001b[43m,\u001b[49m\n\u001b[0;32m      9\u001b[0m \u001b[43m    \u001b[49m\u001b[43mverify_certs\u001b[49m\u001b[38;5;241;43m=\u001b[39;49m\u001b[38;5;28;43;01mTrue\u001b[39;49;00m\u001b[43m,\u001b[49m\u001b[43m  \u001b[49m\u001b[38;5;66;43;03m# Set this to True if you want to verify the SSL certificate\u001b[39;49;00m\n\u001b[0;32m     10\u001b[0m \u001b[43m    \u001b[49m\u001b[38;5;66;43;03m# ssl_show_warn=False,  # Set this to False if you don't want to show SSL warnings\u001b[39;49;00m\n\u001b[0;32m     11\u001b[0m \u001b[43m)\u001b[49m\n",
      "File \u001b[1;32mh:\\models\\haystack-test\\.venv\\Lib\\site-packages\\haystack\\nodes\\base.py:46\u001b[0m, in \u001b[0;36mexportable_to_yaml.<locals>.wrapper_exportable_to_yaml\u001b[1;34m(self, *args, **kwargs)\u001b[0m\n\u001b[0;32m     43\u001b[0m         \u001b[38;5;28mself\u001b[39m\u001b[38;5;241m.\u001b[39m_component_config[\u001b[38;5;124m\"\u001b[39m\u001b[38;5;124mparams\u001b[39m\u001b[38;5;124m\"\u001b[39m][k] \u001b[38;5;241m=\u001b[39m v\n\u001b[0;32m     45\u001b[0m \u001b[38;5;66;03m# Call the actual __init__ function with all the arguments\u001b[39;00m\n\u001b[1;32m---> 46\u001b[0m \u001b[43minit_func\u001b[49m\u001b[43m(\u001b[49m\u001b[38;5;28;43mself\u001b[39;49m\u001b[43m,\u001b[49m\u001b[43m \u001b[49m\u001b[38;5;241;43m*\u001b[39;49m\u001b[43margs\u001b[49m\u001b[43m,\u001b[49m\u001b[43m \u001b[49m\u001b[38;5;241;43m*\u001b[39;49m\u001b[38;5;241;43m*\u001b[39;49m\u001b[43mkwargs\u001b[49m\u001b[43m)\u001b[49m\n",
      "File \u001b[1;32mh:\\models\\haystack-test\\.venv\\Lib\\site-packages\\haystack\\document_stores\\elasticsearch\\es7.py:141\u001b[0m, in \u001b[0;36mElasticsearchDocumentStore.__init__\u001b[1;34m(self, host, port, username, password, api_key_id, api_key, aws4auth, index, label_index, search_fields, content_field, name_field, embedding_field, embedding_dim, custom_mapping, excluded_meta_data, analyzer, scheme, ca_certs, verify_certs, recreate_index, create_index, refresh_type, similarity, timeout, return_embedding, duplicate_documents, scroll, skip_missing_embeddings, synonyms, synonym_type, use_system_proxy, batch_size)\u001b[0m\n\u001b[0;32m    139\u001b[0m \u001b[38;5;28mself\u001b[39m\u001b[38;5;241m.\u001b[39m_RequestError \u001b[38;5;241m=\u001b[39m RequestError\n\u001b[0;32m    140\u001b[0m \u001b[38;5;66;03m# Initiate the Elasticsearch client for version 7.x\u001b[39;00m\n\u001b[1;32m--> 141\u001b[0m client \u001b[38;5;241m=\u001b[39m \u001b[43mElasticsearchDocumentStore\u001b[49m\u001b[38;5;241;43m.\u001b[39;49m\u001b[43m_init_elastic_client\u001b[49m\u001b[43m(\u001b[49m\n\u001b[0;32m    142\u001b[0m \u001b[43m    \u001b[49m\u001b[43mhost\u001b[49m\u001b[38;5;241;43m=\u001b[39;49m\u001b[43mhost\u001b[49m\u001b[43m,\u001b[49m\n\u001b[0;32m    143\u001b[0m \u001b[43m    \u001b[49m\u001b[43mport\u001b[49m\u001b[38;5;241;43m=\u001b[39;49m\u001b[43mport\u001b[49m\u001b[43m,\u001b[49m\n\u001b[0;32m    144\u001b[0m \u001b[43m    \u001b[49m\u001b[43musername\u001b[49m\u001b[38;5;241;43m=\u001b[39;49m\u001b[43musername\u001b[49m\u001b[43m,\u001b[49m\n\u001b[0;32m    145\u001b[0m \u001b[43m    \u001b[49m\u001b[43mpassword\u001b[49m\u001b[38;5;241;43m=\u001b[39;49m\u001b[43mpassword\u001b[49m\u001b[43m,\u001b[49m\n\u001b[0;32m    146\u001b[0m \u001b[43m    \u001b[49m\u001b[43mapi_key\u001b[49m\u001b[38;5;241;43m=\u001b[39;49m\u001b[43mapi_key\u001b[49m\u001b[43m,\u001b[49m\n\u001b[0;32m    147\u001b[0m \u001b[43m    \u001b[49m\u001b[43mapi_key_id\u001b[49m\u001b[38;5;241;43m=\u001b[39;49m\u001b[43mapi_key_id\u001b[49m\u001b[43m,\u001b[49m\n\u001b[0;32m    148\u001b[0m \u001b[43m    \u001b[49m\u001b[43maws4auth\u001b[49m\u001b[38;5;241;43m=\u001b[39;49m\u001b[43maws4auth\u001b[49m\u001b[43m,\u001b[49m\n\u001b[0;32m    149\u001b[0m \u001b[43m    \u001b[49m\u001b[43mscheme\u001b[49m\u001b[38;5;241;43m=\u001b[39;49m\u001b[43mscheme\u001b[49m\u001b[43m,\u001b[49m\n\u001b[0;32m    150\u001b[0m \u001b[43m    \u001b[49m\u001b[43mca_certs\u001b[49m\u001b[38;5;241;43m=\u001b[39;49m\u001b[43mca_certs\u001b[49m\u001b[43m,\u001b[49m\n\u001b[0;32m    151\u001b[0m \u001b[43m    \u001b[49m\u001b[43mverify_certs\u001b[49m\u001b[38;5;241;43m=\u001b[39;49m\u001b[43mverify_certs\u001b[49m\u001b[43m,\u001b[49m\n\u001b[0;32m    152\u001b[0m \u001b[43m    \u001b[49m\u001b[43mtimeout\u001b[49m\u001b[38;5;241;43m=\u001b[39;49m\u001b[43mtimeout\u001b[49m\u001b[43m,\u001b[49m\n\u001b[0;32m    153\u001b[0m \u001b[43m    \u001b[49m\u001b[43muse_system_proxy\u001b[49m\u001b[38;5;241;43m=\u001b[39;49m\u001b[43muse_system_proxy\u001b[49m\u001b[43m,\u001b[49m\n\u001b[0;32m    154\u001b[0m \u001b[43m\u001b[49m\u001b[43m)\u001b[49m\n\u001b[0;32m    156\u001b[0m \u001b[38;5;28msuper\u001b[39m()\u001b[38;5;241m.\u001b[39m\u001b[38;5;21m__init__\u001b[39m(\n\u001b[0;32m    157\u001b[0m     client\u001b[38;5;241m=\u001b[39mclient,\n\u001b[0;32m    158\u001b[0m     index\u001b[38;5;241m=\u001b[39mindex,\n\u001b[1;32m   (...)\u001b[0m\n\u001b[0;32m    178\u001b[0m     batch_size\u001b[38;5;241m=\u001b[39mbatch_size,\n\u001b[0;32m    179\u001b[0m )\n\u001b[0;32m    181\u001b[0m \u001b[38;5;28mself\u001b[39m\u001b[38;5;241m.\u001b[39m_validate_server_version(expected_version\u001b[38;5;241m=\u001b[39m\u001b[38;5;241m7\u001b[39m)\n",
      "File \u001b[1;32mh:\\models\\haystack-test\\.venv\\Lib\\site-packages\\haystack\\document_stores\\elasticsearch\\es7.py:275\u001b[0m, in \u001b[0;36mElasticsearchDocumentStore._init_elastic_client\u001b[1;34m(host, port, username, password, api_key_id, api_key, aws4auth, scheme, ca_certs, verify_certs, timeout, use_system_proxy)\u001b[0m\n\u001b[0;32m    270\u001b[0m             \u001b[38;5;28;01mraise\u001b[39;00m \u001b[38;5;167;01mConnectionError\u001b[39;00m(\n\u001b[0;32m    271\u001b[0m                 \u001b[38;5;124mf\u001b[39m\u001b[38;5;124m\"\u001b[39m\u001b[38;5;124mInitial connection to Elasticsearch failed. Make sure you run an Elasticsearch instance \u001b[39m\u001b[38;5;124m\"\u001b[39m\n\u001b[0;32m    272\u001b[0m                 \u001b[38;5;124mf\u001b[39m\u001b[38;5;124m\"\u001b[39m\u001b[38;5;124mat `\u001b[39m\u001b[38;5;132;01m{\u001b[39;00mhosts\u001b[38;5;132;01m}\u001b[39;00m\u001b[38;5;124m` and that it has finished the initial ramp up (can take > 30s).\u001b[39m\u001b[38;5;124m\"\u001b[39m\n\u001b[0;32m    273\u001b[0m             )\n\u001b[0;32m    274\u001b[0m \u001b[38;5;28;01mexcept\u001b[39;00m \u001b[38;5;167;01mException\u001b[39;00m:\n\u001b[1;32m--> 275\u001b[0m     \u001b[38;5;28;01mraise\u001b[39;00m \u001b[38;5;167;01mConnectionError\u001b[39;00m(\n\u001b[0;32m    276\u001b[0m         \u001b[38;5;124mf\u001b[39m\u001b[38;5;124m\"\u001b[39m\u001b[38;5;124mInitial connection to Elasticsearch failed. Make sure you run an Elasticsearch instance at `\u001b[39m\u001b[38;5;132;01m{\u001b[39;00mhosts\u001b[38;5;132;01m}\u001b[39;00m\u001b[38;5;124m` and that it has finished the initial ramp up (can take > 30s).\u001b[39m\u001b[38;5;124m\"\u001b[39m\n\u001b[0;32m    277\u001b[0m     )\n\u001b[0;32m    278\u001b[0m \u001b[38;5;28;01mreturn\u001b[39;00m client\n",
      "\u001b[1;31mConnectionError\u001b[0m: Initial connection to Elasticsearch failed. Make sure you run an Elasticsearch instance at `[{'host': 'localhost', 'port': 9200}]` and that it has finished the initial ramp up (can take > 30s)."
     ]
    }
   ],
   "source": [
    "from haystack.document_stores import ElasticsearchDocumentStore\n",
    "# ========================================\n",
    "# document_store = ElasticsearchDocumentStore(host=\"localhost\", username=\"\", password=\"\", index=\"document2\")\n",
    "document_store = ElasticsearchDocumentStore(\n",
    "    host=\"localhost\",  # Use the HTTPS scheme\n",
    "    username=\"elastic\",\n",
    "    password=\"0MNn3loYMbrQrsBz_yDR\",\n",
    "    index=\"test-book-no-4\",\n",
    "    verify_certs=True,  # Set this to True if you want to verify the SSL certificate\n",
    "    # ssl_show_warn=False,  # Set this to False if you don't want to show SSL warnings\n",
    ")"
   ]
  },
  {
   "cell_type": "code",
   "execution_count": null,
   "metadata": {},
   "outputs": [],
   "source": [
    "document_store.write_documents(docs)"
   ]
  },
  {
   "cell_type": "code",
   "execution_count": null,
   "metadata": {},
   "outputs": [],
   "source": [
    "from haystack.nodes import BM25Retriever\n",
    "\n",
    "retriever = BM25Retriever(document_store=document_store)"
   ]
  },
  {
   "cell_type": "code",
   "execution_count": null,
   "metadata": {},
   "outputs": [
    {
     "name": "stderr",
     "output_type": "stream",
     "text": [
      "INFO - haystack.modeling.utils -  Using devices: CPU - Number of GPUs: 0\n",
      "INFO - haystack.modeling.utils -  Using devices: CPU - Number of GPUs: 0\n",
      "INFO - haystack.modeling.model.language_model -   * LOADING MODEL: '../haystack-roberta-base-squad2' (Roberta)\n",
      "h:\\models\\haystack-test\\.venv\\Lib\\site-packages\\torch\\_utils.py:831: UserWarning: TypedStorage is deprecated. It will be removed in the future and UntypedStorage will be the only storage class. This should only matter to you if you are using storages directly.  To access UntypedStorage directly, use tensor.untyped_storage() instead of tensor.storage()\n",
      "  return self.fget.__get__(instance, owner)()\n",
      "INFO - haystack.modeling.model.language_model -  Loaded '../haystack-roberta-base-squad2' (Roberta model) from local file system.\n",
      "INFO - haystack.modeling.model.adaptive_model -  Found files for loading 1 prediction heads\n",
      "WARNING - haystack.modeling.model.prediction_head -  Some unused parameters are passed to the QuestionAnsweringHead. Might not be a problem. Params: {\"training\": false, \"num_labels\": 2, \"ph_output_type\": \"per_token_squad\", \"model_type\": \"span_classification\", \"label_tensor_name\": \"question_answering_label_ids\", \"label_list\": [\"start_token\", \"end_token\"], \"metric\": \"squad\", \"name\": \"QuestionAnsweringHead\"}\n",
      "INFO - haystack.modeling.model.prediction_head -  Loading prediction head from ..\\haystack-roberta-base-squad2\\prediction_head_0.bin\n",
      "INFO - haystack.modeling.data_handler.processor -  Initialized processor without tasks. Supply `metric` and `label_list` to the constructor for using the default task or add a custom task later via processor.add_task()\n",
      "INFO - haystack.modeling.utils -  Using devices: CPU - Number of GPUs: 0\n"
     ]
    }
   ],
   "source": [
    "saved_model_dir = \"../haystack-roberta-base-squad2\"\n",
    "reader = FARMReader(model_name_or_path=saved_model_dir, use_gpu=True)\n"
   ]
  },
  {
   "cell_type": "code",
   "execution_count": null,
   "metadata": {},
   "outputs": [],
   "source": [
    "# reader.save(saved_model_dir)"
   ]
  },
  {
   "cell_type": "code",
   "execution_count": null,
   "metadata": {},
   "outputs": [],
   "source": [
    "from haystack.pipelines import ExtractiveQAPipeline\n",
    "\n",
    "pipe = ExtractiveQAPipeline(reader, retriever)"
   ]
  },
  {
   "cell_type": "code",
   "execution_count": null,
   "metadata": {},
   "outputs": [
    {
     "name": "stderr",
     "output_type": "stream",
     "text": [
      "Inferencing Samples: 100%|██████████| 1/1 [00:06<00:00,  6.77s/ Batches]\n"
     ]
    }
   ],
   "source": [
    "prediction = pipe.run(\n",
    "    query=\"malaria fever treatments\", params={\"Retriever\": {\"top_k\": 2}, \"Reader\": {\"top_k\": 10}}\n",
    ")"
   ]
  },
  {
   "cell_type": "code",
   "execution_count": null,
   "metadata": {},
   "outputs": [
    {
     "data": {
      "text/plain": [
       "{'query': 'malaria fever treatments',\n",
       " 'no_ans_gap': -5.577052354812622,\n",
       " 'answers': [<Answer {'answer': 'Presumptive (inital) treatment for malaria fever \\n It should be given to all fever cases if malaria is suspected after taking   blood film wherever possible', 'type': 'extractive', 'score': 0.040137846022844315, 'context': 'Presumptive (inital) treatment for malaria fever \\n It should be given to all fever cases if malaria is suspected after taking   blood film wherever possible', 'offsets_in_document': [{'start': 0, 'end': 156}], 'offsets_in_context': [{'start': 0, 'end': 156}], 'document_ids': ['1b40a9306b661d6b2b4552f8568cc64a'], 'meta': {'name': 'book-no-4-page-15.txt'}}>,\n",
       "  <Answer {'answer': 'headache, bodyache and vomiting. The fever comes down with   profuse sweating and leaves the person with generalized weakness   and discomfort', 'type': 'extractive', 'score': 0.038689810782670975, 'context': 'with headache, bodyache and vomiting. The fever comes down with   profuse sweating and leaves the person with generalized weakness   and discomfort.  ', 'offsets_in_document': [{'start': 451, 'end': 593}], 'offsets_in_context': [{'start': 5, 'end': 147}], 'document_ids': ['f51ba3e5019308c3cf17ba9545599e94'], 'meta': {'name': 'book-no-4-page-14.txt'}}>,\n",
       "  <Answer {'answer': '<p>', 'type': 'extractive', 'score': 0.003707310650497675, 'context': 'imaquine. \\n Primaquine should not be given to infants and pregnant women \\n<p>Whenever a case of fever is seen without any other sign/symptom   such as', 'offsets_in_document': [{'start': 1120, 'end': 1123}], 'offsets_in_context': [{'start': 74, 'end': 77}], 'document_ids': ['1b40a9306b661d6b2b4552f8568cc64a'], 'meta': {'name': 'book-no-4-page-15.txt'}}>],\n",
       " 'documents': [<Document: {'content': 'Presumptive (inital) treatment for malaria fever \\n It should be given to all fever cases if malaria is suspected after taking   blood film wherever possible. \\n It should be given to all persons irrespective of age and sex including   infants and pregnant women. \\n This is done to destroy the malaria parasites in the blood and give   relief to the person having malaria. \\n Certain cases of malaria   can be life-threatening   and hence to have radical   treatment after presumptive   (initial) treatment is   important \\n Anti-malarial drugs should   not be taken on empty   stomach. \\nNational Vector Bone Disease Control Programme \\nThe following anti-malaria activities are undertaken by government health   facilities: \\n Blood sample of patient with fever is collected by the Multi-Purpose   Worker (MPW)/ANM. Thick and thin blood smear are made and   confirmed for malaria parasite. \\n If found to be positive, the radical (final) treatment is given free of cost   on doctorâ€™s/health workerâ€™s advice. The drugs given are Chloroquine   and Primaquine. \\n Primaquine should not be given to infants and pregnant women \\n<p>Whenever a case of fever is seen without any other sign/symptom   such as rash/diarrhoea/cough etc. always consider it to be malaria. Give   treatment on that basis.  \\nAge in   Years  Tablets Chloroquine   Phosphate(150 mg base)   (no. of tablet) ', 'content_type': 'text', 'score': 0.6885462470304801, 'meta': {'name': 'book-no-4-page-15.txt'}, 'id_hash_keys': ['content'], 'embedding': None, 'id': '1b40a9306b661d6b2b4552f8568cc64a'}>,\n",
       "  <Document: {'content': '<p>Malaria is an illness caused   by the presence of malarial   parasite in the human body.   It spreads through the bite of   mosquito. When a mosquito   bites a person suffering from   malaria, the parasite enters   the body of the mosquito.   When the infected mosquito   bites a healthy person then   he/she may develop malaria.  \\n<p>A  p e r s o n  w i t h  m a l a r i a   generally has fever with chills   daily/alternate day, generally   with headache, bodyache and vomiting. The fever comes down with   profuse sweating and leaves the person with generalized weakness   and discomfort.  ', 'content_type': 'text', 'score': 0.6797040509346887, 'meta': {'name': 'book-no-4-page-14.txt'}, 'id_hash_keys': ['content'], 'embedding': None, 'id': 'f51ba3e5019308c3cf17ba9545599e94'}>],\n",
       " 'root_node': 'Query',\n",
       " 'params': {'Retriever': {'top_k': 2}, 'Reader': {'top_k': 10}},\n",
       " 'node_id': 'Reader'}"
      ]
     },
     "execution_count": 16,
     "metadata": {},
     "output_type": "execute_result"
    }
   ],
   "source": [
    "prediction"
   ]
  },
  {
   "cell_type": "code",
   "execution_count": null,
   "metadata": {},
   "outputs": [],
   "source": [
    "import re\n",
    "\n",
    "retJson = {}\n",
    "retJson['res'] = []\n",
    "\n",
    "for ans in prediction['answers']:\n",
    "  scr =ans.score\n",
    "  answer = ans.answer.replace(\"/square6\", \"#\").replace(\"\\n\", \"\")\n",
    "  context = re.split(\"[\\n>]\", ans.context.replace(\"/square6\", \"># \").replace(\"\\n\", \"\"))\n",
    "  retJson['res'].append({'score': scr, \"answer\": answer,  \"context\":context})"
   ]
  },
  {
   "cell_type": "code",
   "execution_count": null,
   "metadata": {},
   "outputs": [
    {
     "data": {
      "text/plain": [
       "{'res': [{'score': 0.040137846022844315,\n",
       "   'answer': 'Presumptive (inital) treatment for malaria fever  It should be given to all fever cases if malaria is suspected after taking   blood film wherever possible',\n",
       "   'context': ['Presumptive (inital) treatment for malaria fever  It should be given to all fever cases if malaria is suspected after taking   blood film wherever possible']},\n",
       "  {'score': 0.038689810782670975,\n",
       "   'answer': 'headache, bodyache and vomiting. The fever comes down with   profuse sweating and leaves the person with generalized weakness   and discomfort',\n",
       "   'context': ['with headache, bodyache and vomiting. The fever comes down with   profuse sweating and leaves the person with generalized weakness   and discomfort.  ']},\n",
       "  {'score': 0.003707310650497675,\n",
       "   'answer': '<p>',\n",
       "   'context': ['imaquine.  Primaquine should not be given to infants and pregnant women <p',\n",
       "    'Whenever a case of fever is seen without any other sign/symptom   such as']}]}"
      ]
     },
     "execution_count": 18,
     "metadata": {},
     "output_type": "execute_result"
    }
   ],
   "source": [
    "retJson"
   ]
  }
 ],
 "metadata": {
  "kernelspec": {
   "display_name": "venv",
   "language": "python",
   "name": "python3"
  },
  "language_info": {
   "codemirror_mode": {
    "name": "ipython",
    "version": 3
   },
   "file_extension": ".py",
   "mimetype": "text/x-python",
   "name": "python",
   "nbconvert_exporter": "python",
   "pygments_lexer": "ipython3",
   "version": "3.11.3"
  }
 },
 "nbformat": 4,
 "nbformat_minor": 2
}
