{
 "cells": [
  {
   "cell_type": "code",
   "execution_count": 4,
   "metadata": {},
   "outputs": [],
   "source": [
    "temp = {'query': 'burns',\n",
    " 'answers': [{'answer': 'Water is far more effective than a blanket because   it cools instantly. \\nIf you are using water-soaked folds of clothes, place them on the burnt   part and change them every three minutes. Help the victim to drink as   much water as possible. This helps to overcome the shock caused by fluid   loss from the body. Cover the burns with a clean cloth to protect from   dust, flies, etc. Unless the burns are minor, all burn cases must be referred   to hospitals',\n",
    "   'context': 'Water is far more effective than a blanket because   it cools instantly. \\nIf you are using water-soakedfolds of clothes, place them on the burnt   part and change them every three minutes. Help the victim to drink as   much water as possible. This helps to overcome the shock caused by fluid   loss from the body. Cover the burns with a clean cloth to protect from   dust, flies, etc. Unless the burns are minor, all burn cases must be referred   to hospitals',\n",
    "   'offsets_in_document': {'start': 530, 'end': 990},\n",
    "   'score': 0.02903401292860508,\n",
    "   'meta': {'name': 'book-no-4-page-23.txt'}},\n",
    "  {'answer': 'Snake bite  Dog bite',\n",
    "   'context': 'ogrammes  Control Programme  control \\nAccidents & first aid  27. Snake bite  Dog bite  Burns  Thrasher Injury  Poisoning  Heat Strokes  Fractures  Dro',\n",
    "   'offsets_in_document': {'start': 739, 'end': 759},\n",
    "   'score': 0.019692009314894676,\n",
    "   'meta': {'name': 'book-no-1-page-13.txt'}}]}"
   ]
  },
  {
   "cell_type": "code",
   "execution_count": 12,
   "metadata": {},
   "outputs": [
    {
     "name": "stdout",
     "output_type": "stream",
     "text": [
      "{'start': 530, 'end': 990} 0.02903401292860508 book-no-4-page-23.txt\n",
      "{'start': 739, 'end': 759} 0.019692009314894676 book-no-1-page-13.txt\n"
     ]
    }
   ],
   "source": [
    "for ans in temp[\"answers\"]:\n",
    "    print(ans[\"offsets_in_document\"] , ans['score'], ans['meta']['name'])"
   ]
  },
  {
   "cell_type": "code",
   "execution_count": 17,
   "metadata": {},
   "outputs": [
    {
     "data": {
      "text/plain": [
       "53"
      ]
     },
     "execution_count": 17,
     "metadata": {},
     "output_type": "execute_result"
    }
   ],
   "source": [
    "len(\"the complete   history of this pregnancy and previous\")"
   ]
  },
  {
   "cell_type": "code",
   "execution_count": null,
   "metadata": {},
   "outputs": [],
   "source": []
  }
 ],
 "metadata": {
  "kernelspec": {
   "display_name": "venv",
   "language": "python",
   "name": "python3"
  },
  "language_info": {
   "codemirror_mode": {
    "name": "ipython",
    "version": 3
   },
   "file_extension": ".py",
   "mimetype": "text/x-python",
   "name": "python",
   "nbconvert_exporter": "python",
   "pygments_lexer": "ipython3",
   "version": "3.11.3"
  }
 },
 "nbformat": 4,
 "nbformat_minor": 2
}
