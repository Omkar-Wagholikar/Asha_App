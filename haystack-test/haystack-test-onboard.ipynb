{
 "cells": [
  {
   "cell_type": "code",
   "execution_count": 1,
   "metadata": {},
   "outputs": [],
   "source": [
    "import logging\n",
    "\n",
    "logging.basicConfig(format=\"%(levelname)s - %(name)s -  %(message)s\", level=logging.WARNING)\n",
    "logging.getLogger(\"haystack\").setLevel(logging.INFO)"
   ]
  },
  {
   "cell_type": "code",
   "execution_count": 2,
   "metadata": {},
   "outputs": [
    {
     "name": "stderr",
     "output_type": "stream",
     "text": [
      "f:\\Asha\\venv\\Lib\\site-packages\\tqdm\\auto.py:21: TqdmWarning: IProgress not found. Please update jupyter and ipywidgets. See https://ipywidgets.readthedocs.io/en/stable/user_install.html\n",
      "  from .autonotebook import tqdm as notebook_tqdm\n"
     ]
    }
   ],
   "source": [
    "import torch\n",
    "from haystack.utils import clean_wiki_text\n",
    "from haystack.utils import convert_files_to_docs\n",
    "from haystack.utils import fetch_archive_from_http\n",
    "from haystack.utils import print_answers\n",
    "from haystack.nodes import FARMReader, TransformersReader"
   ]
  },
  {
   "cell_type": "code",
   "execution_count": 3,
   "metadata": {},
   "outputs": [
    {
     "name": "stderr",
     "output_type": "stream",
     "text": [
      "INFO - haystack.utils.preprocessing -  Converting F:\\Asha\\text-as-page\\asha_ncd-page-10.txt\n"
     ]
    },
    {
     "name": "stderr",
     "output_type": "stream",
     "text": [
      "INFO - haystack.utils.preprocessing -  Converting F:\\Asha\\text-as-page\\asha_ncd-page-11.txt\n",
      "INFO - haystack.utils.preprocessing -  Converting F:\\Asha\\text-as-page\\asha_ncd-page-12.txt\n",
      "INFO - haystack.utils.preprocessing -  Converting F:\\Asha\\text-as-page\\asha_ncd-page-13.txt\n",
      "INFO - haystack.utils.preprocessing -  Converting F:\\Asha\\text-as-page\\asha_ncd-page-14.txt\n",
      "INFO - haystack.utils.preprocessing -  Converting F:\\Asha\\text-as-page\\asha_ncd-page-15.txt\n",
      "INFO - haystack.utils.preprocessing -  Converting F:\\Asha\\text-as-page\\asha_ncd-page-16.txt\n",
      "INFO - haystack.utils.preprocessing -  Converting F:\\Asha\\text-as-page\\asha_ncd-page-17.txt\n",
      "INFO - haystack.utils.preprocessing -  Converting F:\\Asha\\text-as-page\\asha_ncd-page-18.txt\n",
      "INFO - haystack.utils.preprocessing -  Converting F:\\Asha\\text-as-page\\asha_ncd-page-19.txt\n",
      "INFO - haystack.utils.preprocessing -  Converting F:\\Asha\\text-as-page\\asha_ncd-page-20.txt\n",
      "INFO - haystack.utils.preprocessing -  Converting F:\\Asha\\text-as-page\\asha_ncd-page-21.txt\n",
      "INFO - haystack.utils.preprocessing -  Converting F:\\Asha\\text-as-page\\asha_ncd-page-22.txt\n",
      "INFO - haystack.utils.preprocessing -  Converting F:\\Asha\\text-as-page\\asha_ncd-page-23.txt\n",
      "INFO - haystack.utils.preprocessing -  Converting F:\\Asha\\text-as-page\\asha_ncd-page-24.txt\n",
      "INFO - haystack.utils.preprocessing -  Converting F:\\Asha\\text-as-page\\asha_ncd-page-25.txt\n",
      "INFO - haystack.utils.preprocessing -  Converting F:\\Asha\\text-as-page\\asha_ncd-page-26.txt\n",
      "INFO - haystack.utils.preprocessing -  Converting F:\\Asha\\text-as-page\\asha_ncd-page-27.txt\n",
      "INFO - haystack.utils.preprocessing -  Converting F:\\Asha\\text-as-page\\asha_ncd-page-28.txt\n",
      "INFO - haystack.utils.preprocessing -  Converting F:\\Asha\\text-as-page\\asha_ncd-page-29.txt\n",
      "INFO - haystack.utils.preprocessing -  Converting F:\\Asha\\text-as-page\\asha_ncd-page-30.txt\n",
      "INFO - haystack.utils.preprocessing -  Converting F:\\Asha\\text-as-page\\asha_ncd-page-31.txt\n",
      "INFO - haystack.utils.preprocessing -  Converting F:\\Asha\\text-as-page\\asha_ncd-page-32.txt\n",
      "INFO - haystack.utils.preprocessing -  Converting F:\\Asha\\text-as-page\\asha_ncd-page-33.txt\n",
      "INFO - haystack.utils.preprocessing -  Converting F:\\Asha\\text-as-page\\asha_ncd-page-34.txt\n",
      "INFO - haystack.utils.preprocessing -  Converting F:\\Asha\\text-as-page\\asha_ncd-page-35.txt\n",
      "INFO - haystack.utils.preprocessing -  Converting F:\\Asha\\text-as-page\\asha_ncd-page-36.txt\n",
      "INFO - haystack.utils.preprocessing -  Converting F:\\Asha\\text-as-page\\asha_ncd-page-37.txt\n",
      "INFO - haystack.utils.preprocessing -  Converting F:\\Asha\\text-as-page\\asha_ncd-page-38.txt\n",
      "INFO - haystack.utils.preprocessing -  Converting F:\\Asha\\text-as-page\\asha_ncd-page-39.txt\n",
      "INFO - haystack.utils.preprocessing -  Converting F:\\Asha\\text-as-page\\asha_ncd-page-40.txt\n",
      "INFO - haystack.utils.preprocessing -  Converting F:\\Asha\\text-as-page\\asha_ncd-page-41.txt\n",
      "INFO - haystack.utils.preprocessing -  Converting F:\\Asha\\text-as-page\\asha_ncd-page-42.txt\n",
      "INFO - haystack.utils.preprocessing -  Converting F:\\Asha\\text-as-page\\asha_ncd-page-43.txt\n",
      "INFO - haystack.utils.preprocessing -  Converting F:\\Asha\\text-as-page\\asha_ncd-page-44.txt\n",
      "INFO - haystack.utils.preprocessing -  Converting F:\\Asha\\text-as-page\\asha_ncd-page-45.txt\n",
      "INFO - haystack.utils.preprocessing -  Converting F:\\Asha\\text-as-page\\asha_ncd-page-46.txt\n",
      "INFO - haystack.utils.preprocessing -  Converting F:\\Asha\\text-as-page\\asha_ncd-page-47.txt\n",
      "INFO - haystack.utils.preprocessing -  Converting F:\\Asha\\text-as-page\\asha_ncd-page-48.txt\n",
      "INFO - haystack.utils.preprocessing -  Converting F:\\Asha\\text-as-page\\asha_ncd-page-49.txt\n",
      "INFO - haystack.utils.preprocessing -  Converting F:\\Asha\\text-as-page\\asha_ncd-page-50.txt\n",
      "INFO - haystack.utils.preprocessing -  Converting F:\\Asha\\text-as-page\\asha_ncd-page-51.txt\n",
      "INFO - haystack.utils.preprocessing -  Converting F:\\Asha\\text-as-page\\asha_ncd-page-52.txt\n",
      "INFO - haystack.utils.preprocessing -  Converting F:\\Asha\\text-as-page\\asha_ncd-page-53.txt\n",
      "INFO - haystack.utils.preprocessing -  Converting F:\\Asha\\text-as-page\\asha_ncd-page-54.txt\n",
      "INFO - haystack.utils.preprocessing -  Converting F:\\Asha\\text-as-page\\asha_ncd-page-55.txt\n",
      "INFO - haystack.utils.preprocessing -  Converting F:\\Asha\\text-as-page\\asha_ncd-page-56.txt\n",
      "INFO - haystack.utils.preprocessing -  Converting F:\\Asha\\text-as-page\\asha_ncd-page-57.txt\n",
      "INFO - haystack.utils.preprocessing -  Converting F:\\Asha\\text-as-page\\asha_ncd-page-58.txt\n",
      "INFO - haystack.utils.preprocessing -  Converting F:\\Asha\\text-as-page\\asha_ncd-page-59.txt\n",
      "INFO - haystack.utils.preprocessing -  Converting F:\\Asha\\text-as-page\\asha_ncd-page-60.txt\n",
      "INFO - haystack.utils.preprocessing -  Converting F:\\Asha\\text-as-page\\asha_ncd-page-61.txt\n",
      "INFO - haystack.utils.preprocessing -  Converting F:\\Asha\\text-as-page\\asha_ncd-page-65.txt\n",
      "INFO - haystack.utils.preprocessing -  Converting F:\\Asha\\text-as-page\\asha_ncd-page-66.txt\n",
      "INFO - haystack.utils.preprocessing -  Converting F:\\Asha\\text-as-page\\asha_ncd-page-67.txt\n",
      "INFO - haystack.utils.preprocessing -  Converting F:\\Asha\\text-as-page\\asha_ncd-page-68.txt\n",
      "INFO - haystack.utils.preprocessing -  Converting F:\\Asha\\text-as-page\\asha_ncd-page-69.txt\n",
      "INFO - haystack.utils.preprocessing -  Converting F:\\Asha\\text-as-page\\asha_ncd-page-70.txt\n",
      "INFO - haystack.utils.preprocessing -  Converting F:\\Asha\\text-as-page\\asha_ncd-page-9.txt\n",
      "INFO - haystack.utils.preprocessing -  Converting F:\\Asha\\text-as-page\\book-no-1-page-10.txt\n",
      "INFO - haystack.utils.preprocessing -  Converting F:\\Asha\\text-as-page\\book-no-1-page-100.txt\n",
      "INFO - haystack.utils.preprocessing -  Converting F:\\Asha\\text-as-page\\book-no-1-page-101.txt\n",
      "INFO - haystack.utils.preprocessing -  Converting F:\\Asha\\text-as-page\\book-no-1-page-11.txt\n",
      "INFO - haystack.utils.preprocessing -  Converting F:\\Asha\\text-as-page\\book-no-1-page-12.txt\n",
      "INFO - haystack.utils.preprocessing -  Converting F:\\Asha\\text-as-page\\book-no-1-page-13.txt\n",
      "INFO - haystack.utils.preprocessing -  Converting F:\\Asha\\text-as-page\\book-no-1-page-14.txt\n",
      "INFO - haystack.utils.preprocessing -  Converting F:\\Asha\\text-as-page\\book-no-1-page-15.txt\n",
      "INFO - haystack.utils.preprocessing -  Converting F:\\Asha\\text-as-page\\book-no-1-page-16.txt\n",
      "INFO - haystack.utils.preprocessing -  Converting F:\\Asha\\text-as-page\\book-no-1-page-17.txt\n",
      "INFO - haystack.utils.preprocessing -  Converting F:\\Asha\\text-as-page\\book-no-1-page-18.txt\n",
      "INFO - haystack.utils.preprocessing -  Converting F:\\Asha\\text-as-page\\book-no-1-page-19.txt\n",
      "INFO - haystack.utils.preprocessing -  Converting F:\\Asha\\text-as-page\\book-no-1-page-20.txt\n",
      "INFO - haystack.utils.preprocessing -  Converting F:\\Asha\\text-as-page\\book-no-1-page-21.txt\n",
      "INFO - haystack.utils.preprocessing -  Converting F:\\Asha\\text-as-page\\book-no-1-page-22.txt\n",
      "INFO - haystack.utils.preprocessing -  Converting F:\\Asha\\text-as-page\\book-no-1-page-23.txt\n",
      "INFO - haystack.utils.preprocessing -  Converting F:\\Asha\\text-as-page\\book-no-1-page-24.txt\n",
      "INFO - haystack.utils.preprocessing -  Converting F:\\Asha\\text-as-page\\book-no-1-page-25.txt\n",
      "INFO - haystack.utils.preprocessing -  Converting F:\\Asha\\text-as-page\\book-no-1-page-26.txt\n",
      "INFO - haystack.utils.preprocessing -  Converting F:\\Asha\\text-as-page\\book-no-1-page-27.txt\n",
      "INFO - haystack.utils.preprocessing -  Converting F:\\Asha\\text-as-page\\book-no-1-page-28.txt\n",
      "INFO - haystack.utils.preprocessing -  Converting F:\\Asha\\text-as-page\\book-no-1-page-29.txt\n",
      "INFO - haystack.utils.preprocessing -  Converting F:\\Asha\\text-as-page\\book-no-1-page-30.txt\n",
      "INFO - haystack.utils.preprocessing -  Converting F:\\Asha\\text-as-page\\book-no-1-page-31.txt\n",
      "INFO - haystack.utils.preprocessing -  Converting F:\\Asha\\text-as-page\\book-no-1-page-32.txt\n",
      "INFO - haystack.utils.preprocessing -  Converting F:\\Asha\\text-as-page\\book-no-1-page-33.txt\n",
      "INFO - haystack.utils.preprocessing -  Converting F:\\Asha\\text-as-page\\book-no-1-page-34.txt\n",
      "INFO - haystack.utils.preprocessing -  Converting F:\\Asha\\text-as-page\\book-no-1-page-35.txt\n",
      "INFO - haystack.utils.preprocessing -  Converting F:\\Asha\\text-as-page\\book-no-1-page-36.txt\n",
      "INFO - haystack.utils.preprocessing -  Converting F:\\Asha\\text-as-page\\book-no-1-page-37.txt\n",
      "INFO - haystack.utils.preprocessing -  Converting F:\\Asha\\text-as-page\\book-no-1-page-38.txt\n",
      "INFO - haystack.utils.preprocessing -  Converting F:\\Asha\\text-as-page\\book-no-1-page-39.txt\n",
      "INFO - haystack.utils.preprocessing -  Converting F:\\Asha\\text-as-page\\book-no-1-page-40.txt\n",
      "INFO - haystack.utils.preprocessing -  Converting F:\\Asha\\text-as-page\\book-no-1-page-41.txt\n",
      "INFO - haystack.utils.preprocessing -  Converting F:\\Asha\\text-as-page\\book-no-1-page-42.txt\n",
      "INFO - haystack.utils.preprocessing -  Converting F:\\Asha\\text-as-page\\book-no-1-page-43.txt\n",
      "INFO - haystack.utils.preprocessing -  Converting F:\\Asha\\text-as-page\\book-no-1-page-44.txt\n",
      "INFO - haystack.utils.preprocessing -  Converting F:\\Asha\\text-as-page\\book-no-1-page-45.txt\n",
      "INFO - haystack.utils.preprocessing -  Converting F:\\Asha\\text-as-page\\book-no-1-page-46.txt\n",
      "INFO - haystack.utils.preprocessing -  Converting F:\\Asha\\text-as-page\\book-no-1-page-47.txt\n",
      "INFO - haystack.utils.preprocessing -  Converting F:\\Asha\\text-as-page\\book-no-1-page-48.txt\n",
      "INFO - haystack.utils.preprocessing -  Converting F:\\Asha\\text-as-page\\book-no-1-page-49.txt\n",
      "INFO - haystack.utils.preprocessing -  Converting F:\\Asha\\text-as-page\\book-no-1-page-50.txt\n",
      "INFO - haystack.utils.preprocessing -  Converting F:\\Asha\\text-as-page\\book-no-1-page-51.txt\n",
      "INFO - haystack.utils.preprocessing -  Converting F:\\Asha\\text-as-page\\book-no-1-page-52.txt\n",
      "INFO - haystack.utils.preprocessing -  Converting F:\\Asha\\text-as-page\\book-no-1-page-53.txt\n",
      "INFO - haystack.utils.preprocessing -  Converting F:\\Asha\\text-as-page\\book-no-1-page-54.txt\n",
      "INFO - haystack.utils.preprocessing -  Converting F:\\Asha\\text-as-page\\book-no-1-page-55.txt\n",
      "INFO - haystack.utils.preprocessing -  Converting F:\\Asha\\text-as-page\\book-no-1-page-56.txt\n",
      "INFO - haystack.utils.preprocessing -  Converting F:\\Asha\\text-as-page\\book-no-1-page-57.txt\n",
      "INFO - haystack.utils.preprocessing -  Converting F:\\Asha\\text-as-page\\book-no-1-page-58.txt\n",
      "INFO - haystack.utils.preprocessing -  Converting F:\\Asha\\text-as-page\\book-no-1-page-59.txt\n",
      "INFO - haystack.utils.preprocessing -  Converting F:\\Asha\\text-as-page\\book-no-1-page-60.txt\n",
      "INFO - haystack.utils.preprocessing -  Converting F:\\Asha\\text-as-page\\book-no-1-page-61.txt\n",
      "INFO - haystack.utils.preprocessing -  Converting F:\\Asha\\text-as-page\\book-no-1-page-62.txt\n",
      "INFO - haystack.utils.preprocessing -  Converting F:\\Asha\\text-as-page\\book-no-1-page-63.txt\n",
      "INFO - haystack.utils.preprocessing -  Converting F:\\Asha\\text-as-page\\book-no-1-page-64.txt\n",
      "INFO - haystack.utils.preprocessing -  Converting F:\\Asha\\text-as-page\\book-no-1-page-65.txt\n",
      "INFO - haystack.utils.preprocessing -  Converting F:\\Asha\\text-as-page\\book-no-1-page-66.txt\n",
      "INFO - haystack.utils.preprocessing -  Converting F:\\Asha\\text-as-page\\book-no-1-page-67.txt\n",
      "INFO - haystack.utils.preprocessing -  Converting F:\\Asha\\text-as-page\\book-no-1-page-68.txt\n",
      "INFO - haystack.utils.preprocessing -  Converting F:\\Asha\\text-as-page\\book-no-1-page-69.txt\n",
      "INFO - haystack.utils.preprocessing -  Converting F:\\Asha\\text-as-page\\book-no-1-page-70.txt\n",
      "INFO - haystack.utils.preprocessing -  Converting F:\\Asha\\text-as-page\\book-no-1-page-71.txt\n",
      "INFO - haystack.utils.preprocessing -  Converting F:\\Asha\\text-as-page\\book-no-1-page-72.txt\n",
      "INFO - haystack.utils.preprocessing -  Converting F:\\Asha\\text-as-page\\book-no-1-page-73.txt\n",
      "INFO - haystack.utils.preprocessing -  Converting F:\\Asha\\text-as-page\\book-no-1-page-74.txt\n",
      "INFO - haystack.utils.preprocessing -  Converting F:\\Asha\\text-as-page\\book-no-1-page-75.txt\n",
      "INFO - haystack.utils.preprocessing -  Converting F:\\Asha\\text-as-page\\book-no-1-page-76.txt\n",
      "INFO - haystack.utils.preprocessing -  Converting F:\\Asha\\text-as-page\\book-no-1-page-77.txt\n",
      "INFO - haystack.utils.preprocessing -  Converting F:\\Asha\\text-as-page\\book-no-1-page-78.txt\n",
      "INFO - haystack.utils.preprocessing -  Converting F:\\Asha\\text-as-page\\book-no-1-page-79.txt\n",
      "INFO - haystack.utils.preprocessing -  Converting F:\\Asha\\text-as-page\\book-no-1-page-80.txt\n",
      "INFO - haystack.utils.preprocessing -  Converting F:\\Asha\\text-as-page\\book-no-1-page-81.txt\n",
      "INFO - haystack.utils.preprocessing -  Converting F:\\Asha\\text-as-page\\book-no-1-page-82.txt\n",
      "INFO - haystack.utils.preprocessing -  Converting F:\\Asha\\text-as-page\\book-no-1-page-83.txt\n",
      "INFO - haystack.utils.preprocessing -  Converting F:\\Asha\\text-as-page\\book-no-1-page-84.txt\n",
      "INFO - haystack.utils.preprocessing -  Converting F:\\Asha\\text-as-page\\book-no-1-page-85.txt\n",
      "INFO - haystack.utils.preprocessing -  Converting F:\\Asha\\text-as-page\\book-no-1-page-86.txt\n",
      "INFO - haystack.utils.preprocessing -  Converting F:\\Asha\\text-as-page\\book-no-1-page-87.txt\n",
      "INFO - haystack.utils.preprocessing -  Converting F:\\Asha\\text-as-page\\book-no-1-page-88.txt\n",
      "INFO - haystack.utils.preprocessing -  Converting F:\\Asha\\text-as-page\\book-no-1-page-89.txt\n",
      "INFO - haystack.utils.preprocessing -  Converting F:\\Asha\\text-as-page\\book-no-1-page-90.txt\n",
      "INFO - haystack.utils.preprocessing -  Converting F:\\Asha\\text-as-page\\book-no-1-page-91.txt\n",
      "INFO - haystack.utils.preprocessing -  Converting F:\\Asha\\text-as-page\\book-no-1-page-92.txt\n",
      "INFO - haystack.utils.preprocessing -  Converting F:\\Asha\\text-as-page\\book-no-1-page-93.txt\n",
      "INFO - haystack.utils.preprocessing -  Converting F:\\Asha\\text-as-page\\book-no-1-page-94.txt\n",
      "INFO - haystack.utils.preprocessing -  Converting F:\\Asha\\text-as-page\\book-no-1-page-95.txt\n",
      "INFO - haystack.utils.preprocessing -  Converting F:\\Asha\\text-as-page\\book-no-1-page-96.txt\n",
      "INFO - haystack.utils.preprocessing -  Converting F:\\Asha\\text-as-page\\book-no-1-page-97.txt\n",
      "INFO - haystack.utils.preprocessing -  Converting F:\\Asha\\text-as-page\\book-no-1-page-98.txt\n",
      "INFO - haystack.utils.preprocessing -  Converting F:\\Asha\\text-as-page\\book-no-1-page-99.txt\n",
      "INFO - haystack.utils.preprocessing -  Converting F:\\Asha\\text-as-page\\book-no-2-page-10.txt\n",
      "INFO - haystack.utils.preprocessing -  Converting F:\\Asha\\text-as-page\\book-no-2-page-11.txt\n",
      "INFO - haystack.utils.preprocessing -  Converting F:\\Asha\\text-as-page\\book-no-2-page-12.txt\n",
      "INFO - haystack.utils.preprocessing -  Converting F:\\Asha\\text-as-page\\book-no-2-page-13.txt\n",
      "INFO - haystack.utils.preprocessing -  Converting F:\\Asha\\text-as-page\\book-no-2-page-14.txt\n",
      "INFO - haystack.utils.preprocessing -  Converting F:\\Asha\\text-as-page\\book-no-2-page-15.txt\n",
      "INFO - haystack.utils.preprocessing -  Converting F:\\Asha\\text-as-page\\book-no-2-page-16.txt\n",
      "INFO - haystack.utils.preprocessing -  Converting F:\\Asha\\text-as-page\\book-no-2-page-17.txt\n",
      "INFO - haystack.utils.preprocessing -  Converting F:\\Asha\\text-as-page\\book-no-2-page-18.txt\n",
      "INFO - haystack.utils.preprocessing -  Converting F:\\Asha\\text-as-page\\book-no-2-page-19.txt\n",
      "INFO - haystack.utils.preprocessing -  Converting F:\\Asha\\text-as-page\\book-no-2-page-20.txt\n",
      "INFO - haystack.utils.preprocessing -  Converting F:\\Asha\\text-as-page\\book-no-2-page-21.txt\n",
      "INFO - haystack.utils.preprocessing -  Converting F:\\Asha\\text-as-page\\book-no-2-page-22.txt\n",
      "INFO - haystack.utils.preprocessing -  Converting F:\\Asha\\text-as-page\\book-no-2-page-23.txt\n",
      "INFO - haystack.utils.preprocessing -  Converting F:\\Asha\\text-as-page\\book-no-2-page-24.txt\n",
      "INFO - haystack.utils.preprocessing -  Converting F:\\Asha\\text-as-page\\book-no-2-page-25.txt\n",
      "INFO - haystack.utils.preprocessing -  Converting F:\\Asha\\text-as-page\\book-no-2-page-26.txt\n",
      "INFO - haystack.utils.preprocessing -  Converting F:\\Asha\\text-as-page\\book-no-2-page-27.txt\n",
      "INFO - haystack.utils.preprocessing -  Converting F:\\Asha\\text-as-page\\book-no-2-page-28.txt\n",
      "INFO - haystack.utils.preprocessing -  Converting F:\\Asha\\text-as-page\\book-no-2-page-29.txt\n",
      "INFO - haystack.utils.preprocessing -  Converting F:\\Asha\\text-as-page\\book-no-2-page-30.txt\n",
      "INFO - haystack.utils.preprocessing -  Converting F:\\Asha\\text-as-page\\book-no-2-page-31.txt\n",
      "INFO - haystack.utils.preprocessing -  Converting F:\\Asha\\text-as-page\\book-no-2-page-32.txt\n",
      "INFO - haystack.utils.preprocessing -  Converting F:\\Asha\\text-as-page\\book-no-2-page-33.txt\n",
      "INFO - haystack.utils.preprocessing -  Converting F:\\Asha\\text-as-page\\book-no-2-page-34.txt\n",
      "INFO - haystack.utils.preprocessing -  Converting F:\\Asha\\text-as-page\\book-no-2-page-35.txt\n",
      "INFO - haystack.utils.preprocessing -  Converting F:\\Asha\\text-as-page\\book-no-2-page-36.txt\n",
      "INFO - haystack.utils.preprocessing -  Converting F:\\Asha\\text-as-page\\book-no-2-page-37.txt\n",
      "INFO - haystack.utils.preprocessing -  Converting F:\\Asha\\text-as-page\\book-no-2-page-38.txt\n",
      "INFO - haystack.utils.preprocessing -  Converting F:\\Asha\\text-as-page\\book-no-2-page-39.txt\n",
      "INFO - haystack.utils.preprocessing -  Converting F:\\Asha\\text-as-page\\book-no-2-page-40.txt\n",
      "INFO - haystack.utils.preprocessing -  Converting F:\\Asha\\text-as-page\\book-no-2-page-41.txt\n",
      "INFO - haystack.utils.preprocessing -  Converting F:\\Asha\\text-as-page\\book-no-2-page-42.txt\n",
      "INFO - haystack.utils.preprocessing -  Converting F:\\Asha\\text-as-page\\book-no-2-page-43.txt\n",
      "INFO - haystack.utils.preprocessing -  Converting F:\\Asha\\text-as-page\\book-no-2-page-9.txt\n",
      "INFO - haystack.utils.preprocessing -  Converting F:\\Asha\\text-as-page\\book-no-3-page-10.txt\n",
      "INFO - haystack.utils.preprocessing -  Converting F:\\Asha\\text-as-page\\book-no-3-page-11.txt\n",
      "INFO - haystack.utils.preprocessing -  Converting F:\\Asha\\text-as-page\\book-no-3-page-12.txt\n",
      "INFO - haystack.utils.preprocessing -  Converting F:\\Asha\\text-as-page\\book-no-3-page-13.txt\n",
      "INFO - haystack.utils.preprocessing -  Converting F:\\Asha\\text-as-page\\book-no-3-page-14.txt\n",
      "INFO - haystack.utils.preprocessing -  Converting F:\\Asha\\text-as-page\\book-no-3-page-15.txt\n",
      "INFO - haystack.utils.preprocessing -  Converting F:\\Asha\\text-as-page\\book-no-3-page-16.txt\n",
      "INFO - haystack.utils.preprocessing -  Converting F:\\Asha\\text-as-page\\book-no-3-page-17.txt\n",
      "INFO - haystack.utils.preprocessing -  Converting F:\\Asha\\text-as-page\\book-no-3-page-18.txt\n",
      "INFO - haystack.utils.preprocessing -  Converting F:\\Asha\\text-as-page\\book-no-3-page-19.txt\n",
      "INFO - haystack.utils.preprocessing -  Converting F:\\Asha\\text-as-page\\book-no-3-page-20.txt\n",
      "INFO - haystack.utils.preprocessing -  Converting F:\\Asha\\text-as-page\\book-no-3-page-21.txt\n",
      "INFO - haystack.utils.preprocessing -  Converting F:\\Asha\\text-as-page\\book-no-3-page-22.txt\n",
      "INFO - haystack.utils.preprocessing -  Converting F:\\Asha\\text-as-page\\book-no-3-page-23.txt\n",
      "INFO - haystack.utils.preprocessing -  Converting F:\\Asha\\text-as-page\\book-no-3-page-24.txt\n",
      "INFO - haystack.utils.preprocessing -  Converting F:\\Asha\\text-as-page\\book-no-3-page-25.txt\n",
      "INFO - haystack.utils.preprocessing -  Converting F:\\Asha\\text-as-page\\book-no-3-page-26.txt\n",
      "INFO - haystack.utils.preprocessing -  Converting F:\\Asha\\text-as-page\\book-no-3-page-27.txt\n",
      "INFO - haystack.utils.preprocessing -  Converting F:\\Asha\\text-as-page\\book-no-3-page-28.txt\n",
      "INFO - haystack.utils.preprocessing -  Converting F:\\Asha\\text-as-page\\book-no-3-page-29.txt\n",
      "INFO - haystack.utils.preprocessing -  Converting F:\\Asha\\text-as-page\\book-no-3-page-30.txt\n",
      "INFO - haystack.utils.preprocessing -  Converting F:\\Asha\\text-as-page\\book-no-3-page-31.txt\n",
      "INFO - haystack.utils.preprocessing -  Converting F:\\Asha\\text-as-page\\book-no-3-page-32.txt\n",
      "INFO - haystack.utils.preprocessing -  Converting F:\\Asha\\text-as-page\\book-no-3-page-33.txt\n",
      "INFO - haystack.utils.preprocessing -  Converting F:\\Asha\\text-as-page\\book-no-3-page-34.txt\n",
      "INFO - haystack.utils.preprocessing -  Converting F:\\Asha\\text-as-page\\book-no-3-page-8.txt\n",
      "INFO - haystack.utils.preprocessing -  Converting F:\\Asha\\text-as-page\\book-no-3-page-9.txt\n",
      "INFO - haystack.utils.preprocessing -  Converting F:\\Asha\\text-as-page\\book-no-4-page-10.txt\n",
      "INFO - haystack.utils.preprocessing -  Converting F:\\Asha\\text-as-page\\book-no-4-page-11.txt\n",
      "INFO - haystack.utils.preprocessing -  Converting F:\\Asha\\text-as-page\\book-no-4-page-12.txt\n",
      "INFO - haystack.utils.preprocessing -  Converting F:\\Asha\\text-as-page\\book-no-4-page-13.txt\n",
      "INFO - haystack.utils.preprocessing -  Converting F:\\Asha\\text-as-page\\book-no-4-page-14.txt\n",
      "INFO - haystack.utils.preprocessing -  Converting F:\\Asha\\text-as-page\\book-no-4-page-15.txt\n",
      "INFO - haystack.utils.preprocessing -  Converting F:\\Asha\\text-as-page\\book-no-4-page-16.txt\n",
      "INFO - haystack.utils.preprocessing -  Converting F:\\Asha\\text-as-page\\book-no-4-page-17.txt\n",
      "INFO - haystack.utils.preprocessing -  Converting F:\\Asha\\text-as-page\\book-no-4-page-18.txt\n",
      "INFO - haystack.utils.preprocessing -  Converting F:\\Asha\\text-as-page\\book-no-4-page-19.txt\n",
      "INFO - haystack.utils.preprocessing -  Converting F:\\Asha\\text-as-page\\book-no-4-page-20.txt\n",
      "INFO - haystack.utils.preprocessing -  Converting F:\\Asha\\text-as-page\\book-no-4-page-21.txt\n",
      "INFO - haystack.utils.preprocessing -  Converting F:\\Asha\\text-as-page\\book-no-4-page-22.txt\n",
      "INFO - haystack.utils.preprocessing -  Converting F:\\Asha\\text-as-page\\book-no-4-page-23.txt\n",
      "INFO - haystack.utils.preprocessing -  Converting F:\\Asha\\text-as-page\\book-no-4-page-24.txt\n",
      "INFO - haystack.utils.preprocessing -  Converting F:\\Asha\\text-as-page\\book-no-4-page-25.txt\n",
      "INFO - haystack.utils.preprocessing -  Converting F:\\Asha\\text-as-page\\book-no-4-page-26.txt\n",
      "INFO - haystack.utils.preprocessing -  Converting F:\\Asha\\text-as-page\\book-no-4-page-27.txt\n",
      "INFO - haystack.utils.preprocessing -  Converting F:\\Asha\\text-as-page\\book-no-4-page-28.txt\n",
      "INFO - haystack.utils.preprocessing -  Converting F:\\Asha\\text-as-page\\book-no-4-page-29.txt\n",
      "INFO - haystack.utils.preprocessing -  Converting F:\\Asha\\text-as-page\\book-no-4-page-30.txt\n",
      "INFO - haystack.utils.preprocessing -  Converting F:\\Asha\\text-as-page\\book-no-4-page-31.txt\n",
      "INFO - haystack.utils.preprocessing -  Converting F:\\Asha\\text-as-page\\book-no-4-page-32.txt\n",
      "INFO - haystack.utils.preprocessing -  Converting F:\\Asha\\text-as-page\\book-no-4-page-8.txt\n",
      "INFO - haystack.utils.preprocessing -  Converting F:\\Asha\\text-as-page\\book-no-4-page-9.txt\n",
      "INFO - haystack.utils.preprocessing -  Converting F:\\Asha\\text-as-page\\book-no-5-page-10.txt\n",
      "INFO - haystack.utils.preprocessing -  Converting F:\\Asha\\text-as-page\\book-no-5-page-11.txt\n",
      "INFO - haystack.utils.preprocessing -  Converting F:\\Asha\\text-as-page\\book-no-5-page-12.txt\n",
      "INFO - haystack.utils.preprocessing -  Converting F:\\Asha\\text-as-page\\book-no-5-page-13.txt\n",
      "INFO - haystack.utils.preprocessing -  Converting F:\\Asha\\text-as-page\\book-no-5-page-14.txt\n",
      "INFO - haystack.utils.preprocessing -  Converting F:\\Asha\\text-as-page\\book-no-5-page-15.txt\n",
      "INFO - haystack.utils.preprocessing -  Converting F:\\Asha\\text-as-page\\book-no-5-page-16.txt\n",
      "INFO - haystack.utils.preprocessing -  Converting F:\\Asha\\text-as-page\\book-no-5-page-17.txt\n",
      "INFO - haystack.utils.preprocessing -  Converting F:\\Asha\\text-as-page\\book-no-5-page-18.txt\n",
      "INFO - haystack.utils.preprocessing -  Converting F:\\Asha\\text-as-page\\book-no-5-page-19.txt\n",
      "INFO - haystack.utils.preprocessing -  Converting F:\\Asha\\text-as-page\\book-no-5-page-20.txt\n",
      "INFO - haystack.utils.preprocessing -  Converting F:\\Asha\\text-as-page\\book-no-5-page-21.txt\n",
      "INFO - haystack.utils.preprocessing -  Converting F:\\Asha\\text-as-page\\book-no-5-page-22.txt\n",
      "INFO - haystack.utils.preprocessing -  Converting F:\\Asha\\text-as-page\\book-no-5-page-23.txt\n",
      "INFO - haystack.utils.preprocessing -  Converting F:\\Asha\\text-as-page\\book-no-5-page-24.txt\n",
      "INFO - haystack.utils.preprocessing -  Converting F:\\Asha\\text-as-page\\book-no-5-page-25.txt\n",
      "INFO - haystack.utils.preprocessing -  Converting F:\\Asha\\text-as-page\\book-no-5-page-26.txt\n",
      "INFO - haystack.utils.preprocessing -  Converting F:\\Asha\\text-as-page\\book-no-5-page-27.txt\n",
      "INFO - haystack.utils.preprocessing -  Converting F:\\Asha\\text-as-page\\book-no-5-page-28.txt\n",
      "INFO - haystack.utils.preprocessing -  Converting F:\\Asha\\text-as-page\\book-no-5-page-29.txt\n",
      "INFO - haystack.utils.preprocessing -  Converting F:\\Asha\\text-as-page\\book-no-5-page-30.txt\n",
      "INFO - haystack.utils.preprocessing -  Converting F:\\Asha\\text-as-page\\book-no-5-page-31.txt\n",
      "INFO - haystack.utils.preprocessing -  Converting F:\\Asha\\text-as-page\\book-no-5-page-32.txt\n",
      "INFO - haystack.utils.preprocessing -  Converting F:\\Asha\\text-as-page\\book-no-5-page-33.txt\n",
      "INFO - haystack.utils.preprocessing -  Converting F:\\Asha\\text-as-page\\book-no-5-page-34.txt\n",
      "INFO - haystack.utils.preprocessing -  Converting F:\\Asha\\text-as-page\\book-no-5-page-35.txt\n",
      "INFO - haystack.utils.preprocessing -  Converting F:\\Asha\\text-as-page\\book-no-5-page-36.txt\n",
      "INFO - haystack.utils.preprocessing -  Converting F:\\Asha\\text-as-page\\book-no-5-page-37.txt\n",
      "INFO - haystack.utils.preprocessing -  Converting F:\\Asha\\text-as-page\\book-no-5-page-38.txt\n",
      "INFO - haystack.utils.preprocessing -  Converting F:\\Asha\\text-as-page\\book-no-5-page-39.txt\n",
      "INFO - haystack.utils.preprocessing -  Converting F:\\Asha\\text-as-page\\book-no-5-page-40.txt\n",
      "INFO - haystack.utils.preprocessing -  Converting F:\\Asha\\text-as-page\\book-no-5-page-41.txt\n",
      "INFO - haystack.utils.preprocessing -  Converting F:\\Asha\\text-as-page\\book-no-5-page-42.txt\n",
      "INFO - haystack.utils.preprocessing -  Converting F:\\Asha\\text-as-page\\book-no-5-page-43.txt\n",
      "INFO - haystack.utils.preprocessing -  Converting F:\\Asha\\text-as-page\\book-no-5-page-44.txt\n",
      "INFO - haystack.utils.preprocessing -  Converting F:\\Asha\\text-as-page\\book-no-5-page-45.txt\n",
      "INFO - haystack.utils.preprocessing -  Converting F:\\Asha\\text-as-page\\book-no-5-page-46.txt\n",
      "INFO - haystack.utils.preprocessing -  Converting F:\\Asha\\text-as-page\\book-no-5-page-47.txt\n",
      "INFO - haystack.utils.preprocessing -  Converting F:\\Asha\\text-as-page\\book-no-5-page-48.txt\n",
      "INFO - haystack.utils.preprocessing -  Converting F:\\Asha\\text-as-page\\book-no-5-page-49.txt\n",
      "INFO - haystack.utils.preprocessing -  Converting F:\\Asha\\text-as-page\\book-no-5-page-50.txt\n",
      "INFO - haystack.utils.preprocessing -  Converting F:\\Asha\\text-as-page\\book-no-5-page-51.txt\n",
      "INFO - haystack.utils.preprocessing -  Converting F:\\Asha\\text-as-page\\book-no-5-page-52.txt\n",
      "INFO - haystack.utils.preprocessing -  Converting F:\\Asha\\text-as-page\\book-no-5-page-53.txt\n",
      "INFO - haystack.utils.preprocessing -  Converting F:\\Asha\\text-as-page\\book-no-5-page-54.txt\n",
      "INFO - haystack.utils.preprocessing -  Converting F:\\Asha\\text-as-page\\book-no-5-page-55.txt\n",
      "INFO - haystack.utils.preprocessing -  Converting F:\\Asha\\text-as-page\\book-no-5-page-6.txt\n",
      "INFO - haystack.utils.preprocessing -  Converting F:\\Asha\\text-as-page\\book-no-5-page-7.txt\n",
      "INFO - haystack.utils.preprocessing -  Converting F:\\Asha\\text-as-page\\book-no-5-page-8.txt\n",
      "INFO - haystack.utils.preprocessing -  Converting F:\\Asha\\text-as-page\\book-no-5-page-9.txt\n",
      "INFO - haystack.utils.preprocessing -  Converting F:\\Asha\\text-as-page\\book-no-6-page-10.txt\n",
      "INFO - haystack.utils.preprocessing -  Converting F:\\Asha\\text-as-page\\book-no-6-page-11.txt\n",
      "INFO - haystack.utils.preprocessing -  Converting F:\\Asha\\text-as-page\\book-no-6-page-12.txt\n",
      "INFO - haystack.utils.preprocessing -  Converting F:\\Asha\\text-as-page\\book-no-6-page-13.txt\n",
      "INFO - haystack.utils.preprocessing -  Converting F:\\Asha\\text-as-page\\book-no-6-page-14.txt\n",
      "INFO - haystack.utils.preprocessing -  Converting F:\\Asha\\text-as-page\\book-no-6-page-15.txt\n",
      "INFO - haystack.utils.preprocessing -  Converting F:\\Asha\\text-as-page\\book-no-6-page-16.txt\n",
      "INFO - haystack.utils.preprocessing -  Converting F:\\Asha\\text-as-page\\book-no-6-page-17.txt\n",
      "INFO - haystack.utils.preprocessing -  Converting F:\\Asha\\text-as-page\\book-no-6-page-18.txt\n",
      "INFO - haystack.utils.preprocessing -  Converting F:\\Asha\\text-as-page\\book-no-6-page-19.txt\n",
      "INFO - haystack.utils.preprocessing -  Converting F:\\Asha\\text-as-page\\book-no-6-page-22.txt\n",
      "INFO - haystack.utils.preprocessing -  Converting F:\\Asha\\text-as-page\\book-no-6-page-23.txt\n",
      "INFO - haystack.utils.preprocessing -  Converting F:\\Asha\\text-as-page\\book-no-6-page-24.txt\n",
      "INFO - haystack.utils.preprocessing -  Converting F:\\Asha\\text-as-page\\book-no-6-page-25.txt\n",
      "INFO - haystack.utils.preprocessing -  Converting F:\\Asha\\text-as-page\\book-no-6-page-26.txt\n",
      "INFO - haystack.utils.preprocessing -  Converting F:\\Asha\\text-as-page\\book-no-6-page-27.txt\n",
      "INFO - haystack.utils.preprocessing -  Converting F:\\Asha\\text-as-page\\book-no-6-page-28.txt\n",
      "INFO - haystack.utils.preprocessing -  Converting F:\\Asha\\text-as-page\\book-no-6-page-29.txt\n",
      "INFO - haystack.utils.preprocessing -  Converting F:\\Asha\\text-as-page\\book-no-6-page-30.txt\n",
      "INFO - haystack.utils.preprocessing -  Converting F:\\Asha\\text-as-page\\book-no-6-page-31.txt\n",
      "INFO - haystack.utils.preprocessing -  Converting F:\\Asha\\text-as-page\\book-no-6-page-32.txt\n",
      "INFO - haystack.utils.preprocessing -  Converting F:\\Asha\\text-as-page\\book-no-6-page-33.txt\n",
      "INFO - haystack.utils.preprocessing -  Converting F:\\Asha\\text-as-page\\book-no-6-page-34.txt\n",
      "INFO - haystack.utils.preprocessing -  Converting F:\\Asha\\text-as-page\\book-no-6-page-35.txt\n",
      "INFO - haystack.utils.preprocessing -  Converting F:\\Asha\\text-as-page\\book-no-6-page-36.txt\n",
      "INFO - haystack.utils.preprocessing -  Converting F:\\Asha\\text-as-page\\book-no-6-page-37.txt\n",
      "INFO - haystack.utils.preprocessing -  Converting F:\\Asha\\text-as-page\\book-no-6-page-38.txt\n",
      "INFO - haystack.utils.preprocessing -  Converting F:\\Asha\\text-as-page\\book-no-6-page-39.txt\n",
      "INFO - haystack.utils.preprocessing -  Converting F:\\Asha\\text-as-page\\book-no-6-page-40.txt\n",
      "INFO - haystack.utils.preprocessing -  Converting F:\\Asha\\text-as-page\\book-no-6-page-41.txt\n",
      "INFO - haystack.utils.preprocessing -  Converting F:\\Asha\\text-as-page\\book-no-6-page-42.txt\n",
      "INFO - haystack.utils.preprocessing -  Converting F:\\Asha\\text-as-page\\book-no-6-page-44.txt\n",
      "INFO - haystack.utils.preprocessing -  Converting F:\\Asha\\text-as-page\\book-no-6-page-45.txt\n",
      "INFO - haystack.utils.preprocessing -  Converting F:\\Asha\\text-as-page\\book-no-6-page-46.txt\n",
      "INFO - haystack.utils.preprocessing -  Converting F:\\Asha\\text-as-page\\book-no-6-page-47.txt\n",
      "INFO - haystack.utils.preprocessing -  Converting F:\\Asha\\text-as-page\\book-no-6-page-48.txt\n",
      "INFO - haystack.utils.preprocessing -  Converting F:\\Asha\\text-as-page\\book-no-6-page-49.txt\n",
      "INFO - haystack.utils.preprocessing -  Converting F:\\Asha\\text-as-page\\book-no-6-page-50.txt\n",
      "INFO - haystack.utils.preprocessing -  Converting F:\\Asha\\text-as-page\\book-no-6-page-51.txt\n",
      "INFO - haystack.utils.preprocessing -  Converting F:\\Asha\\text-as-page\\book-no-6-page-52.txt\n",
      "INFO - haystack.utils.preprocessing -  Converting F:\\Asha\\text-as-page\\book-no-6-page-53.txt\n",
      "INFO - haystack.utils.preprocessing -  Converting F:\\Asha\\text-as-page\\book-no-6-page-54.txt\n",
      "INFO - haystack.utils.preprocessing -  Converting F:\\Asha\\text-as-page\\book-no-6-page-55.txt\n",
      "INFO - haystack.utils.preprocessing -  Converting F:\\Asha\\text-as-page\\book-no-6-page-56.txt\n",
      "INFO - haystack.utils.preprocessing -  Converting F:\\Asha\\text-as-page\\book-no-6-page-57.txt\n",
      "INFO - haystack.utils.preprocessing -  Converting F:\\Asha\\text-as-page\\book-no-6-page-58.txt\n",
      "INFO - haystack.utils.preprocessing -  Converting F:\\Asha\\text-as-page\\book-no-6-page-59.txt\n",
      "INFO - haystack.utils.preprocessing -  Converting F:\\Asha\\text-as-page\\book-no-6-page-60.txt\n",
      "INFO - haystack.utils.preprocessing -  Converting F:\\Asha\\text-as-page\\book-no-6-page-61.txt\n",
      "INFO - haystack.utils.preprocessing -  Converting F:\\Asha\\text-as-page\\book-no-6-page-63.txt\n",
      "INFO - haystack.utils.preprocessing -  Converting F:\\Asha\\text-as-page\\book-no-6-page-64.txt\n",
      "INFO - haystack.utils.preprocessing -  Converting F:\\Asha\\text-as-page\\book-no-6-page-65.txt\n",
      "INFO - haystack.utils.preprocessing -  Converting F:\\Asha\\text-as-page\\book-no-6-page-66.txt\n",
      "INFO - haystack.utils.preprocessing -  Converting F:\\Asha\\text-as-page\\book-no-6-page-67.txt\n",
      "INFO - haystack.utils.preprocessing -  Converting F:\\Asha\\text-as-page\\book-no-6-page-68.txt\n",
      "INFO - haystack.utils.preprocessing -  Converting F:\\Asha\\text-as-page\\book-no-6-page-69.txt\n",
      "INFO - haystack.utils.preprocessing -  Converting F:\\Asha\\text-as-page\\book-no-6-page-70.txt\n",
      "INFO - haystack.utils.preprocessing -  Converting F:\\Asha\\text-as-page\\book-no-6-page-71.txt\n",
      "INFO - haystack.utils.preprocessing -  Converting F:\\Asha\\text-as-page\\book-no-6-page-72.txt\n",
      "INFO - haystack.utils.preprocessing -  Converting F:\\Asha\\text-as-page\\book-no-6-page-73.txt\n",
      "INFO - haystack.utils.preprocessing -  Converting F:\\Asha\\text-as-page\\book-no-6-page-74.txt\n",
      "INFO - haystack.utils.preprocessing -  Converting F:\\Asha\\text-as-page\\book-no-6-page-75.txt\n",
      "INFO - haystack.utils.preprocessing -  Converting F:\\Asha\\text-as-page\\book-no-6-page-76.txt\n",
      "INFO - haystack.utils.preprocessing -  Converting F:\\Asha\\text-as-page\\book-no-6-page-8.txt\n",
      "INFO - haystack.utils.preprocessing -  Converting F:\\Asha\\text-as-page\\book-no-6-page-9.txt\n",
      "INFO - haystack.utils.preprocessing -  Converting F:\\Asha\\text-as-page\\book-no-7-page-10.txt\n",
      "INFO - haystack.utils.preprocessing -  Converting F:\\Asha\\text-as-page\\book-no-7-page-11.txt\n",
      "INFO - haystack.utils.preprocessing -  Converting F:\\Asha\\text-as-page\\book-no-7-page-12.txt\n",
      "INFO - haystack.utils.preprocessing -  Converting F:\\Asha\\text-as-page\\book-no-7-page-13.txt\n",
      "INFO - haystack.utils.preprocessing -  Converting F:\\Asha\\text-as-page\\book-no-7-page-14.txt\n",
      "INFO - haystack.utils.preprocessing -  Converting F:\\Asha\\text-as-page\\book-no-7-page-15.txt\n",
      "INFO - haystack.utils.preprocessing -  Converting F:\\Asha\\text-as-page\\book-no-7-page-16.txt\n",
      "INFO - haystack.utils.preprocessing -  Converting F:\\Asha\\text-as-page\\book-no-7-page-17.txt\n",
      "INFO - haystack.utils.preprocessing -  Converting F:\\Asha\\text-as-page\\book-no-7-page-18.txt\n",
      "INFO - haystack.utils.preprocessing -  Converting F:\\Asha\\text-as-page\\book-no-7-page-19.txt\n",
      "INFO - haystack.utils.preprocessing -  Converting F:\\Asha\\text-as-page\\book-no-7-page-20.txt\n",
      "INFO - haystack.utils.preprocessing -  Converting F:\\Asha\\text-as-page\\book-no-7-page-21.txt\n",
      "INFO - haystack.utils.preprocessing -  Converting F:\\Asha\\text-as-page\\book-no-7-page-22.txt\n",
      "INFO - haystack.utils.preprocessing -  Converting F:\\Asha\\text-as-page\\book-no-7-page-23.txt\n",
      "INFO - haystack.utils.preprocessing -  Converting F:\\Asha\\text-as-page\\book-no-7-page-24.txt\n",
      "INFO - haystack.utils.preprocessing -  Converting F:\\Asha\\text-as-page\\book-no-7-page-25.txt\n",
      "INFO - haystack.utils.preprocessing -  Converting F:\\Asha\\text-as-page\\book-no-7-page-26.txt\n",
      "INFO - haystack.utils.preprocessing -  Converting F:\\Asha\\text-as-page\\book-no-7-page-27.txt\n",
      "INFO - haystack.utils.preprocessing -  Converting F:\\Asha\\text-as-page\\book-no-7-page-28.txt\n",
      "INFO - haystack.utils.preprocessing -  Converting F:\\Asha\\text-as-page\\book-no-7-page-29.txt\n",
      "INFO - haystack.utils.preprocessing -  Converting F:\\Asha\\text-as-page\\book-no-7-page-30.txt\n",
      "INFO - haystack.utils.preprocessing -  Converting F:\\Asha\\text-as-page\\book-no-7-page-31.txt\n",
      "INFO - haystack.utils.preprocessing -  Converting F:\\Asha\\text-as-page\\book-no-7-page-32.txt\n",
      "INFO - haystack.utils.preprocessing -  Converting F:\\Asha\\text-as-page\\book-no-7-page-33.txt\n",
      "INFO - haystack.utils.preprocessing -  Converting F:\\Asha\\text-as-page\\book-no-7-page-35.txt\n",
      "INFO - haystack.utils.preprocessing -  Converting F:\\Asha\\text-as-page\\book-no-7-page-37.txt\n",
      "INFO - haystack.utils.preprocessing -  Converting F:\\Asha\\text-as-page\\book-no-7-page-38.txt\n",
      "INFO - haystack.utils.preprocessing -  Converting F:\\Asha\\text-as-page\\book-no-7-page-39.txt\n",
      "INFO - haystack.utils.preprocessing -  Converting F:\\Asha\\text-as-page\\book-no-7-page-40.txt\n",
      "INFO - haystack.utils.preprocessing -  Converting F:\\Asha\\text-as-page\\book-no-7-page-41.txt\n",
      "INFO - haystack.utils.preprocessing -  Converting F:\\Asha\\text-as-page\\book-no-7-page-42.txt\n",
      "INFO - haystack.utils.preprocessing -  Converting F:\\Asha\\text-as-page\\book-no-7-page-43.txt\n",
      "INFO - haystack.utils.preprocessing -  Converting F:\\Asha\\text-as-page\\book-no-7-page-44.txt\n",
      "INFO - haystack.utils.preprocessing -  Converting F:\\Asha\\text-as-page\\book-no-7-page-45.txt\n",
      "INFO - haystack.utils.preprocessing -  Converting F:\\Asha\\text-as-page\\book-no-7-page-46.txt\n",
      "INFO - haystack.utils.preprocessing -  Converting F:\\Asha\\text-as-page\\book-no-7-page-47.txt\n",
      "INFO - haystack.utils.preprocessing -  Converting F:\\Asha\\text-as-page\\book-no-7-page-48.txt\n",
      "INFO - haystack.utils.preprocessing -  Converting F:\\Asha\\text-as-page\\book-no-7-page-49.txt\n",
      "INFO - haystack.utils.preprocessing -  Converting F:\\Asha\\text-as-page\\book-no-7-page-51.txt\n",
      "INFO - haystack.utils.preprocessing -  Converting F:\\Asha\\text-as-page\\book-no-7-page-52.txt\n",
      "INFO - haystack.utils.preprocessing -  Converting F:\\Asha\\text-as-page\\book-no-7-page-53.txt\n",
      "INFO - haystack.utils.preprocessing -  Converting F:\\Asha\\text-as-page\\book-no-7-page-54.txt\n",
      "INFO - haystack.utils.preprocessing -  Converting F:\\Asha\\text-as-page\\book-no-7-page-55.txt\n",
      "INFO - haystack.utils.preprocessing -  Converting F:\\Asha\\text-as-page\\book-no-7-page-56.txt\n",
      "INFO - haystack.utils.preprocessing -  Converting F:\\Asha\\text-as-page\\book-no-7-page-57.txt\n",
      "INFO - haystack.utils.preprocessing -  Converting F:\\Asha\\text-as-page\\book-no-7-page-59.txt\n",
      "INFO - haystack.utils.preprocessing -  Converting F:\\Asha\\text-as-page\\book-no-7-page-61.txt\n",
      "INFO - haystack.utils.preprocessing -  Converting F:\\Asha\\text-as-page\\book-no-7-page-62.txt\n",
      "INFO - haystack.utils.preprocessing -  Converting F:\\Asha\\text-as-page\\book-no-7-page-63.txt\n",
      "INFO - haystack.utils.preprocessing -  Converting F:\\Asha\\text-as-page\\book-no-7-page-64.txt\n",
      "INFO - haystack.utils.preprocessing -  Converting F:\\Asha\\text-as-page\\book-no-7-page-65.txt\n",
      "INFO - haystack.utils.preprocessing -  Converting F:\\Asha\\text-as-page\\book-no-7-page-66.txt\n",
      "INFO - haystack.utils.preprocessing -  Converting F:\\Asha\\text-as-page\\book-no-7-page-67.txt\n",
      "INFO - haystack.utils.preprocessing -  Converting F:\\Asha\\text-as-page\\book-no-7-page-68.txt\n",
      "INFO - haystack.utils.preprocessing -  Converting F:\\Asha\\text-as-page\\book-no-7-page-69.txt\n",
      "INFO - haystack.utils.preprocessing -  Converting F:\\Asha\\text-as-page\\book-no-7-page-71.txt\n",
      "INFO - haystack.utils.preprocessing -  Converting F:\\Asha\\text-as-page\\book-no-7-page-72.txt\n",
      "INFO - haystack.utils.preprocessing -  Converting F:\\Asha\\text-as-page\\book-no-7-page-73.txt\n",
      "INFO - haystack.utils.preprocessing -  Converting F:\\Asha\\text-as-page\\book-no-7-page-74.txt\n",
      "INFO - haystack.utils.preprocessing -  Converting F:\\Asha\\text-as-page\\book-no-7-page-75.txt\n",
      "INFO - haystack.utils.preprocessing -  Converting F:\\Asha\\text-as-page\\book-no-7-page-76.txt\n",
      "INFO - haystack.utils.preprocessing -  Converting F:\\Asha\\text-as-page\\book-no-7-page-77.txt\n",
      "INFO - haystack.utils.preprocessing -  Converting F:\\Asha\\text-as-page\\book-no-7-page-78.txt\n",
      "INFO - haystack.utils.preprocessing -  Converting F:\\Asha\\text-as-page\\book-no-7-page-79.txt\n",
      "INFO - haystack.utils.preprocessing -  Converting F:\\Asha\\text-as-page\\book-no-7-page-80.txt\n",
      "INFO - haystack.utils.preprocessing -  Converting F:\\Asha\\text-as-page\\book-no-7-page-81.txt\n",
      "INFO - haystack.utils.preprocessing -  Converting F:\\Asha\\text-as-page\\book-no-7-page-82.txt\n",
      "INFO - haystack.utils.preprocessing -  Converting F:\\Asha\\text-as-page\\book-no-7-page-83.txt\n",
      "INFO - haystack.utils.preprocessing -  Converting F:\\Asha\\text-as-page\\book-no-7-page-84.txt\n",
      "INFO - haystack.utils.preprocessing -  Converting F:\\Asha\\text-as-page\\book-no-7-page-85.txt\n",
      "INFO - haystack.utils.preprocessing -  Converting F:\\Asha\\text-as-page\\book-no-7-page-86.txt\n",
      "INFO - haystack.utils.preprocessing -  Converting F:\\Asha\\text-as-page\\book-no-7-page-9.txt\n"
     ]
    }
   ],
   "source": [
    "# doc_dir = \"/content/drive/MyDrive/Asha/text-as-page\"\n",
    "doc_dir = \"F:/Asha/text-as-page\"\n",
    "# C:\\Users\\DELL\\Desktop\\Asha\\text-as-page\n",
    "\n",
    "\n",
    "# Convert files to dicts\n",
    "# You can optionally supply a cleaning function that is applied to each doc (e.g. to remove footers)\n",
    "# It must take a str as input, and return a str.\n",
    "\n",
    "docs = convert_files_to_docs(dir_path=doc_dir, clean_func=clean_wiki_text, split_paragraphs=True)"
   ]
  },
  {
   "cell_type": "code",
   "execution_count": null,
   "metadata": {},
   "outputs": [
    {
     "name": "stderr",
     "output_type": "stream",
     "text": [
      "'sleep' is not recognized as an internal or external command,\n",
      "operable program or batch file.\n"
     ]
    }
   ],
   "source": [
    "# import os\n",
    "# from subprocess import Popen, PIPE, STDOUT\n",
    "\n",
    "# # es_server = Popen(\n",
    "# #     [\"G:/models/elastic-search/elasticsearch-8.10.4/binelasticsearch\"], stdout=PIPE, stderr=STDOUT, preexec_fn=lambda: os.setuid(1)\n",
    "# # )\n",
    "\n",
    "# es_server = Popen(\n",
    "#     [\"H:/models/elastic-test/elasticsearch-8.10.4-windows-x86_64/elasticsearch-8.10.4/bin/elasticsearch.bat\"], stdout=PIPE, stderr=STDOUT\n",
    "# )\n",
    "\n",
    "\n",
    "# ! sleep 30"
   ]
  },
  {
   "cell_type": "code",
   "execution_count": 4,
   "metadata": {},
   "outputs": [
    {
     "name": "stderr",
     "output_type": "stream",
     "text": [
      "WARNING - haystack.document_stores.elasticsearch.base -  This ElasticsearchDocumentStore has been built for Elasticsearch 7, but the detected version of the Elasticsearch server is 8.10.4. Unexpected behaviors or errors may occur due to version incompatibility.\n"
     ]
    }
   ],
   "source": [
    "from haystack.document_stores import ElasticsearchDocumentStore\n",
    "# ========================================\n",
    "# document_store = ElasticsearchDocumentStore(host=\"localhost\", username=\"\", password=\"\", index=\"document2\")\n",
    "document_store = ElasticsearchDocumentStore(\n",
    "    host=\"localhost\",  # Use the HTTPS scheme\n",
    "    username=\"elastic\",\n",
    "    password=\"GPvaCsQYvSnI_EkU3vLV\",\n",
    "    index=\"full-clean-1\",\n",
    "    verify_certs=True,  # Set this to True if you want to verify the SSL certificate\n",
    "    # ssl_show_warn=False,  # Set this to False if you don't want to show SSL warnings\n",
    ")"
   ]
  },
  {
   "cell_type": "code",
   "execution_count": 5,
   "metadata": {},
   "outputs": [],
   "source": [
    "document_store.write_documents(docs)"
   ]
  },
  {
   "cell_type": "code",
   "execution_count": 6,
   "metadata": {},
   "outputs": [],
   "source": [
    "from haystack.nodes import BM25Retriever\n",
    "\n",
    "retriever = BM25Retriever(document_store=document_store)"
   ]
  },
  {
   "cell_type": "code",
   "execution_count": 7,
   "metadata": {},
   "outputs": [
    {
     "name": "stderr",
     "output_type": "stream",
     "text": [
      "INFO - haystack.modeling.utils -  Using devices: CPU - Number of GPUs: 0\n",
      "INFO - haystack.modeling.utils -  Using devices: CPU - Number of GPUs: 0\n",
      "INFO - haystack.modeling.model.language_model -   * LOADING MODEL: 'F:/haystack-roberta-base-squad2' (Roberta)\n",
      "f:\\Asha\\venv\\Lib\\site-packages\\torch\\_utils.py:831: UserWarning: TypedStorage is deprecated. It will be removed in the future and UntypedStorage will be the only storage class. This should only matter to you if you are using storages directly.  To access UntypedStorage directly, use tensor.untyped_storage() instead of tensor.storage()\n",
      "  return self.fget.__get__(instance, owner)()\n",
      "INFO - haystack.modeling.model.language_model -  Loaded 'F:/haystack-roberta-base-squad2' (Roberta model) from local file system.\n",
      "INFO - haystack.modeling.model.adaptive_model -  Found files for loading 1 prediction heads\n",
      "WARNING - haystack.modeling.model.prediction_head -  Some unused parameters are passed to the QuestionAnsweringHead. Might not be a problem. Params: {\"training\": false, \"num_labels\": 2, \"ph_output_type\": \"per_token_squad\", \"model_type\": \"span_classification\", \"label_tensor_name\": \"question_answering_label_ids\", \"label_list\": [\"start_token\", \"end_token\"], \"metric\": \"squad\", \"name\": \"QuestionAnsweringHead\"}\n",
      "INFO - haystack.modeling.model.prediction_head -  Loading prediction head from F:\\haystack-roberta-base-squad2\\prediction_head_0.bin\n",
      "INFO - haystack.modeling.data_handler.processor -  Initialized processor without tasks. Supply `metric` and `label_list` to the constructor for using the default task or add a custom task later via processor.add_task()\n",
      "INFO - haystack.modeling.utils -  Using devices: CPU - Number of GPUs: 0\n"
     ]
    }
   ],
   "source": [
    "saved_model_dir = \"F:/haystack-roberta-base-squad2\"\n",
    "reader = FARMReader(model_name_or_path=saved_model_dir, use_gpu=True)"
   ]
  },
  {
   "cell_type": "code",
   "execution_count": null,
   "metadata": {},
   "outputs": [],
   "source": [
    "# reader.save(saved_model_dir)"
   ]
  },
  {
   "cell_type": "code",
   "execution_count": 8,
   "metadata": {},
   "outputs": [],
   "source": [
    "from haystack.pipelines import ExtractiveQAPipeline\n",
    "\n",
    "pipe = ExtractiveQAPipeline(reader, retriever)"
   ]
  },
  {
   "cell_type": "code",
   "execution_count": 9,
   "metadata": {},
   "outputs": [
    {
     "name": "stderr",
     "output_type": "stream",
     "text": [
      "Inferencing Samples: 100%|██████████| 1/1 [00:07<00:00,  7.00s/ Batches]\n"
     ]
    }
   ],
   "source": [
    "prediction = pipe.run(\n",
    "    query=\"Risk Factors for Hypertension\", params={\"Retriever\": {\"top_k\": 2}, \"Reader\": {\"top_k\": 10}}\n",
    ")"
   ]
  },
  {
   "cell_type": "code",
   "execution_count": 10,
   "metadata": {},
   "outputs": [
    {
     "data": {
      "text/plain": [
       "{'query': 'Risk Factors for Hypertension',\n",
       " 'no_ans_gap': -6.149246454238892,\n",
       " 'answers': [<Answer {'answer': 'Unhealthy diet', 'type': 'extractive', 'score': 0.04389713332056999, 'context': 'owing are some common factors that can lead to high blood pressure \\nUnhealthy diet - A diet especially high in salt, fat and low in vegetables/fruits.', 'offsets_in_document': [{'start': 980, 'end': 994}], 'offsets_in_context': [{'start': 68, 'end': 82}], 'document_ids': ['afdf27663c0151f05a751e903e66bacb'], 'meta': {'name': 'asha_ncd-page-35.txt'}}>,\n",
       "  <Answer {'answer': 'high blood pressure', 'type': 'extractive', 'score': 0.03751356154680252, 'context': 's we grow older, there is an   increase in the risk of developing high blood pressure, (Hypertension), high blood   sugar levels, (Diabetes), high lev', 'offsets_in_document': [{'start': 430, 'end': 449}], 'offsets_in_context': [{'start': 66, 'end': 85}], 'document_ids': ['71d309867989bc27b313a15715292426'], 'meta': {'name': 'asha_ncd-page-16.txt'}}>,\n",
       "  <Answer {'answer': 'Family history:  The chances of getting some NCDs are higher if a close family member   -  parents, siblings also have the disease. This is called Family History. If a person has a   family history of NCDs she/he has a high chance of getting the disease. \\nThese are risk factors that can be changed by specific action,.', 'type': 'extractive', 'score': 0.0020569516345858574, 'context': '\\nFamily history:  The chances of getting some NCDs are higher if a close family member   -  parents, siblings also have the disease. This is called Family History. If a person has a   family history of NCDs she/he has a high chance of getting the disease. \\nThese are risk factors that can be changed by specific action,.', 'offsets_in_document': [{'start': 1120, 'end': 1439}], 'offsets_in_context': [{'start': 1, 'end': 320}], 'document_ids': ['71d309867989bc27b313a15715292426'], 'meta': {'name': 'asha_ncd-page-16.txt'}}>,\n",
       "  <Answer {'answer': 'Cardiovascular diseases', 'type': 'extractive', 'score': 0.001071200706064701, 'context': 'ges at the level of  \\n Excess body   fat (being   overweight) \\n Cardiovascular diseases   (Heart disease, Stroke) \\n Chronic Respiratory   Diseases (As', 'offsets_in_document': [{'start': 2149, 'end': 2172}], 'offsets_in_context': [{'start': 64, 'end': 87}], 'document_ids': ['71d309867989bc27b313a15715292426'], 'meta': {'name': 'asha_ncd-page-16.txt'}}>],\n",
       " 'documents': [<Document: {'content': 'Hypertension occurs when the blood moves through the blood vessels at a higher   pressure than normal. This requires the heart to work harder to push blood through the   blood vessels. This increases the load on the heart.  \\nHypertension is also referred to as  â€œsilent killerâ€ . This is because it can exist without   causing any warning signs or symptoms. That is why it is important to screen all   individuals at least above the age of 30 years for blood pressure at least once annually. \\nHigh blood pressure, if not controlled, may lead to damage of blood vessels, heart and   other organs, such as the brain, kidneys and eyes. Constant high blood pressure can   cause life - threatening conditions, such as heart diseases and stroke, diabetes, kidney   diseases, etc. Reducing blood pressure to even a small extent can help lower the risk of   these conditions. \\nRisk Factors for Hypertension  \\nThe following are some common factors that can lead to high blood pressure \\nUnhealthy diet - A diet especially high in salt, fat and low in vegetables/fruits. \\nLack of physical activity (or sedentary lifestyle). \\nIn this Chapter,  you will learn about: \\nCommon Risk Factors leading to High Blood Pressure (Hypertension). \\nMeasurement of Blood Pressure using Electronic Digital Blood    Pressure Machine. \\nManagement and Control of High Blood Pressure. \\nHeart Attack and Stroke and Risk Factors. \\nWarning Signs of Heart Attack and Stroke. \\nPrevention of Heart Attack and Stroke. ', 'content_type': 'text', 'score': 0.8344366257587815, 'meta': {'name': 'asha_ncd-page-35.txt'}, 'id_hash_keys': ['content'], 'embedding': None, 'id': 'afdf27663c0151f05a751e903e66bacb'}>,\n",
       "  <Document: {'content': 'The diagram below shows how risk factors can lead to NCDs. The more risk factors one   has, the greater is the chance of getting a particular disease. \\nThese risk factors are inherent to an individual and cannot be changed, such as age,   family history and sex (as seen in the case of Rafia and Shabnam).  \\nAge:  With increasing age, our body undergoes changes. As we grow older, there is an   increase in the risk of developing high blood pressure, (Hypertension), high blood   sugar levels, (Diabetes), high levels of body fat and blood fats. These conditions can   lead to Non-Communicable Diseases like -  heart and blood vessel diseases (stroke),   diabetes, cancer, respiratory problems, etc.  \\nSex : Both women and men are at risk of developing Non-Communicable Diseases.   Men are at a higher risk of developing Non-Communicable Diseases. However,   women who have reached menopause are more likely to suffer from heart attacks   than pre-menopausal women. Some risk factors for developing Non-Communicable   Diseases such as high blood pressure or high blood glucose can affect women even   during pregnancy. \\nFamily history:  The chances of getting some NCDs are higher if a close family member   -  parents, siblings also have the disease. This is called Family History. If a person has a   family history of NCDs she/he has a high chance of getting the disease. \\nThese are risk factors that can be changed by specific action,. The harmful effect can be   reduced with changes in lifestyle and treatment. Risk factors may affect the individual such   as unhealthy diets, lack of physical activity, tobacco and alcohol consumption (as seen in   the case of Nawab, Rani and Shyam). Population level risk factors include poverty, poor   living and working conditions and environmental factors like pollution from factory smoke,   cars and even cooking stove (chulha) in home, can increase the risk of many NCDs. \\nAt the individual level, some modifiable risk factors can be changed if the person changes   her/his individual behaviours. However, some factors also require changes at the level of  \\n Excess body   fat (being   overweight) \\n Cardiovascular diseases   (Heart disease, Stroke) \\n Chronic Respiratory   Diseases (Asthma,   difficulty in breathing) \\nSource:  Adapted from WHO STEPwise approach to NCD surveillance, WHO-2003 ', 'content_type': 'text', 'score': 0.8009779625946396, 'meta': {'name': 'asha_ncd-page-16.txt'}, 'id_hash_keys': ['content'], 'embedding': None, 'id': '71d309867989bc27b313a15715292426'}>],\n",
       " 'root_node': 'Query',\n",
       " 'params': {'Retriever': {'top_k': 2}, 'Reader': {'top_k': 10}},\n",
       " 'node_id': 'Reader'}"
      ]
     },
     "execution_count": 10,
     "metadata": {},
     "output_type": "execute_result"
    }
   ],
   "source": [
    "prediction\n"
   ]
  },
  {
   "cell_type": "code",
   "execution_count": null,
   "metadata": {},
   "outputs": [
    {
     "data": {
      "text/plain": [
       "{'query': 'Risk Factors for Hypertension',\n",
       " 'no_ans_gap': -5.296202659606934,\n",
       " 'answers': [<Answer {'answer': 'Unhealthy diet', 'type': 'extractive', 'score': 0.05551372468471527, 'context': ' are some common factors that can lead to high blood pressure \\nï¿½  Unhealthy diet - A diet especially high in salt, fat and low in vegetables/fruits.', 'offsets_in_document': [{'start': 985, 'end': 999}], 'offsets_in_context': [{'start': 68, 'end': 82}], 'document_ids': ['a95f15b0d9563a4201d656cb18161689'], 'meta': {'name': 'asha_ncd-page-35.txt'}}>,\n",
       "  <Answer {'answer': 'ï¿', 'type': 'extractive', 'score': 0.03754296153783798, 'context': 'e following are some common factors that can lead to high blood pressure \\nï¿½  Unhealthy diet - A diet especially high in salt, fat and low in vegetab', 'offsets_in_document': [{'start': 980, 'end': 982}], 'offsets_in_context': [{'start': 74, 'end': 76}], 'document_ids': ['a95f15b0d9563a4201d656cb18161689'], 'meta': {'name': 'asha_ncd-page-35.txt'}}>,\n",
       "  <Answer {'answer': 'Remarks  \\nHypertension  Diabetes Oral   Cancer  Breast   Cancer   Cervical   Cancer  COPD   (Respiratory   Disorders) \\nHypertension Diabetes Oral   Cancer  Breast   Cancer   Cervical   Cancer  COPD   (Respiratory   Disorders) \\nCondition Date of   Diagnosis  Treatment Initiation  Treatment Compliance -  Currently on Treatment  Treatment Discontinued   Other -    Remarks \\nHealth   Facility   Date Details Health   Facility   Date of   Visit   Supply of Medicine   Received â€', 'type': 'extractive', 'score': 0.01915629953145981, 'context': 'Remarks  \\nHypertension  Diabetes Oral   Cancer  Breast   Cancer   Cervical   Cancer  COPD   (Respiratory   Disorders) \\nHypertension Diabetes Oral   Cancer  Breast   Cancer   Cervical   Cancer  COPD   (Respiratory   Disorders) \\nCondition Date of   Diagnosis  Treatment Initiation  Treatment Compliance -  Currently on Treatment  Treatment Discontinued   Other -    Remarks \\nHealth   Facility   Date Details Health   Facility   Date of   Visit   Supply of Medicine   Received â€', 'offsets_in_document': [{'start': 333, 'end': 809}], 'offsets_in_context': [{'start': 0, 'end': 476}], 'document_ids': ['943ad08ddf65b8f4a2a7006d2ae1a6bf'], 'meta': {'name': 'asha_ncd-page-66.txt'}}>,\n",
       "  <Answer {'answer': 'D   (Respiratory   Disorders) \\nHypertension Diabetes Oral   Cancer  Breast   Cancer   Cervical   Cancer  COPD', 'type': 'extractive', 'score': 0.005343116819858551, 'context': 'ervical   Cancer  COPD   (Respiratory   Disorders) \\nHypertension Diabetes Oral   Cancer  Breast   Cancer   Cervical   Cancer  COPD   (Respiratory   Di', 'offsets_in_document': [{'start': 421, 'end': 530}], 'offsets_in_context': [{'start': 21, 'end': 130}], 'document_ids': ['943ad08ddf65b8f4a2a7006d2ae1a6bf'], 'meta': {'name': 'asha_ncd-page-66.txt'}}>],\n",
       " 'documents': [<Document: {'content': 'Hypertension occurs when the blood moves through the blood vessels at a higher   pressure than normal. This requires the heart to work harder to push blood through the   blood vessels. This increases the load on the heart.  \\nHypertension is also referred to as  â€œsilent killerâ€ . This is because it can exist without   causing any warning signs or symptoms. That is why it is important to screen all   individuals at least above the age of 30 years for blood pressure at least once annually. \\nHigh blood pressure, if not controlled, may lead to damage of blood vessels, heart and   other organs, such as the brain, kidneys and eyes. Constant high blood pressure can   cause life - threatening conditions, such as heart diseases and stroke, diabetes, kidney   diseases, etc. Reducing blood pressure to even a small extent can help lower the risk of   these conditions. \\nRisk Factors for Hypertension  \\nThe following are some common factors that can lead to high blood pressure \\nï¿½  Unhealthy diet - A diet especially high in salt, fat and low in vegetables/fruits. \\nï¿½  Lack of physical activity (or sedentary lifestyle). \\nIn this Chapter,  you will learn about: \\n Common Risk Factors leading to High Blood Pressure (Hypertension). \\n Measurement of Blood Pressure using Electronic Digital Blood    Pressure Machine. \\n Management and Control of High Blood Pressure. \\n Heart Attack and Stroke and Risk Factors. \\n Warning Signs of Heart Attack and Stroke. \\n Prevention of Heart Attack and Stroke. ', 'content_type': 'text', 'score': 0.8327519111471552, 'meta': {'name': 'asha_ncd-page-35.txt'}, 'id_hash_keys': ['content'], 'embedding': None, 'id': 'a95f15b0d9563a4201d656cb18161689'}>,\n",
       "  <Document: {'content': '58    |    Module for ASHA on Non-Communicable Diseases \\nPart B) Individual Health Record  \\nKnown Medical Illness   for NCDs  Date of Diagnosis   Treatment  Any Complications   Others  \\nCurrently under   treatment  Discontinued  \\nScreened for (specify date on which screening was done)  Screening Result  Risk   Factors   Other -    Remarks  \\nHypertension  Diabetes Oral   Cancer  Breast   Cancer   Cervical   Cancer  COPD   (Respiratory   Disorders) \\nHypertension Diabetes Oral   Cancer  Breast   Cancer   Cervical   Cancer  COPD   (Respiratory   Disorders) \\nCondition Date of   Diagnosis  Treatment Initiation  Treatment Compliance -  Currently on Treatment  Treatment Discontinued   Other -    Remarks \\nHealth   Facility   Date Details Health   Facility   Date of   Visit   Supply of Medicine   Received â€“ Monthly  Side Effects/  Complications  \\nReasons for   Discontinuation  Date of   Discontinuation  ', 'content_type': 'text', 'score': 0.797821130189693, 'meta': {'name': 'asha_ncd-page-66.txt'}, 'id_hash_keys': ['content'], 'embedding': None, 'id': '943ad08ddf65b8f4a2a7006d2ae1a6bf'}>],\n",
       " 'root_node': 'Query',\n",
       " 'params': {'Retriever': {'top_k': 2}, 'Reader': {'top_k': 10}},\n",
       " 'node_id': 'Reader'}"
      ]
     },
     "execution_count": 34,
     "metadata": {},
     "output_type": "execute_result"
    }
   ],
   "source": [
    "prediction\n"
   ]
  },
  {
   "cell_type": "code",
   "execution_count": 15,
   "metadata": {},
   "outputs": [
    {
     "name": "stderr",
     "output_type": "stream",
     "text": [
      "Inferencing Samples: 100%|██████████| 1/1 [00:05<00:00,  5.17s/ Batches]\n"
     ]
    },
    {
     "data": {
      "text/plain": [
       "{'query': 'Cancer',\n",
       " 'no_ans_gap': -5.461440086364746,\n",
       " 'answers': [<Answer {'answer': 'ï¿', 'type': 'extractive', 'score': 0.043330539017915726, 'context': 'he health system and   encourage the community to help them as required. \\nï¿½  Encourage the patients undergoing cancer treatment to have fresh,   hyg', 'offsets_in_document': [{'start': 721, 'end': 723}], 'offsets_in_context': [{'start': 74, 'end': 76}], 'document_ids': ['868a98cd64fcdd3393975a845d527a02'], 'meta': {'name': 'asha_ncd-page-56.txt'}}>,\n",
       "  <Answer {'answer': 'COPD', 'type': 'extractive', 'score': 0.02659785747528076, 'context': 'ypertension Diabetes Oral   Cancer  Breast   Cancer   Cervical   Cancer  COPD   (Respiratory   Disorders) \\nCondition Date of   Diagnosis  Treatment In', 'offsets_in_document': [{'start': 526, 'end': 530}], 'offsets_in_context': [{'start': 73, 'end': 77}], 'document_ids': ['943ad08ddf65b8f4a2a7006d2ae1a6bf'], 'meta': {'name': 'asha_ncd-page-66.txt'}}>,\n",
       "  <Answer {'answer': 'Hypertension', 'type': 'extractive', 'score': 0.0013118957867845893, 'context': 'g was done)  Screening Result  Risk   Factors   Other -    Remarks  \\nHypertension  Diabetes Oral   Cancer  Breast   Cancer   Cervical   Cancer  COPD  ', 'offsets_in_document': [{'start': 343, 'end': 355}], 'offsets_in_context': [{'start': 69, 'end': 81}], 'document_ids': ['943ad08ddf65b8f4a2a7006d2ae1a6bf'], 'meta': {'name': 'asha_ncd-page-66.txt'}}>],\n",
       " 'documents': [<Document: {'content': '58    |    Module for ASHA on Non-Communicable Diseases \\nPart B) Individual Health Record  \\nKnown Medical Illness   for NCDs  Date of Diagnosis   Treatment  Any Complications   Others  \\nCurrently under   treatment  Discontinued  \\nScreened for (specify date on which screening was done)  Screening Result  Risk   Factors   Other -    Remarks  \\nHypertension  Diabetes Oral   Cancer  Breast   Cancer   Cervical   Cancer  COPD   (Respiratory   Disorders) \\nHypertension Diabetes Oral   Cancer  Breast   Cancer   Cervical   Cancer  COPD   (Respiratory   Disorders) \\nCondition Date of   Diagnosis  Treatment Initiation  Treatment Compliance -  Currently on Treatment  Treatment Discontinued   Other -    Remarks \\nHealth   Facility   Date Details Health   Facility   Date of   Visit   Supply of Medicine   Received â€“ Monthly  Side Effects/  Complications  \\nReasons for   Discontinuation  Date of   Discontinuation  ', 'content_type': 'text', 'score': 0.6661675093977633, 'meta': {'name': 'asha_ncd-page-66.txt'}, 'id_hash_keys': ['content'], 'embedding': None, 'id': '943ad08ddf65b8f4a2a7006d2ae1a6bf'}>,\n",
       "  <Document: {'content': '48    |    Module for ASHA on Non-Communicable Diseases \\nï¿½  You must remember that all cases who may have one or more signs   of cancer, may not actually have cancer. Several people who undergo   screening may have one sign or more,  but unless this is proved by biopsy,   it cannot be confirmed.  You must take care not to create a panic situation   by informing people that they have cancer before this is confirmed by a   medical doctor.  \\nï¿½  Cancer treatment is long and causes both emotional and financial stress   to the family. One of your tasks should be to support the family through   visits, helping them to access the services in the health system and   encourage the community to help them as required. \\nï¿½  Encourage the patients undergoing cancer treatment to have fresh,   hygienic, well-cooked foods, avoid alcohol and tobacco in any form. \\nï¿½  People receiving cancer treatment specially with medicines may have   a higher risk of acquiring infections. You can play an important role in   informing patients and families on adopting methods for preventing   infections. These include-tips for handwashing, body hygiene, oral   hygiene, and avoiding crowded places or covering the face with a mask   while in crowded places.  \\nï¿½  The cost of cancer treatment for poor patients is often free. Different   states have schemes that will take care of these costs. You should find out   what happens in your state, so that people in your community can get   access to reduced cost of care. \\nDuring screening, if an individual is found to have a sign that could indicate cancer, a test   called a biopsy would need to be taken done by a trained service provider.  \\nï¿½  Treatment for cancer can be provided at the district hospital, in the medical college or   in special centres created for treatment of cancer. \\nï¿½  Treatment for cancer could be through surgery, medicines or radiotherapy (treatment   using X-rays). ', 'content_type': 'text', 'score': 0.6634062591370954, 'meta': {'name': 'asha_ncd-page-56.txt'}, 'id_hash_keys': ['content'], 'embedding': None, 'id': '868a98cd64fcdd3393975a845d527a02'}>],\n",
       " 'root_node': 'Query',\n",
       " 'params': {'Retriever': {'top_k': 2}, 'Reader': {'top_k': 10}},\n",
       " 'node_id': 'Reader'}"
      ]
     },
     "execution_count": 15,
     "metadata": {},
     "output_type": "execute_result"
    }
   ],
   "source": [
    "prediction = pipe.run(\n",
    "    query=\"Cancer\", params={\"Retriever\": {\"top_k\": 2}, \"Reader\": {\"top_k\": 10}}\n",
    ")\n",
    "prediction"
   ]
  },
  {
   "cell_type": "code",
   "execution_count": null,
   "metadata": {},
   "outputs": [
    {
     "name": "stderr",
     "output_type": "stream",
     "text": [
      "Inferencing Samples: 100%|██████████| 1/1 [00:06<00:00,  6.15s/ Batches]\n"
     ]
    },
    {
     "data": {
      "text/plain": [
       "{'query': 'lump in breast',\n",
       " 'no_ans_gap': -0.9495975971221924,\n",
       " 'answers': [<Answer {'answer': 'Shortness of breath', 'type': 'extractive', 'score': 0.3197242021560669, 'context': 'hese Symptoms \\nB1: Women and Men  Yes/No  B2: Women only  Yes/No \\nShortness of breath   Lump in the breast \\nCoughing more than 2 weeks  Blood stained ', 'offsets_in_document': [{'start': 175, 'end': 194}], 'offsets_in_context': [{'start': 66, 'end': 85}], 'document_ids': ['9419976ac5ff99e98646a200d99c0333'], 'meta': {'name': 'asha_ncd-page-68.txt'}}>,\n",
       "  <Answer {'answer': 'ï¿½  Lump or thickening', 'type': 'extractive', 'score': 0.2009580284357071, 'context': 'h nipples. \\nï¿½  Puckering or dimpling of skin of the breasts. \\nï¿½  Lump or thickening in the breast. \\nï¿½  Constant pain in the breast or armpit. \\nW', 'offsets_in_document': [{'start': 434, 'end': 457}], 'offsets_in_context': [{'start': 64, 'end': 87}], 'document_ids': ['578d364f89ccf698159c10991eee0a1d'], 'meta': {'name': 'asha_ncd-page-51.txt'}}>,\n",
       "  <Answer {'answer': 'Breast self-examination is recommended to raise awareness of breast cancer. The practice   of BSE empowers women to take responsibility for their health. However this is  not a   substitute for examination by a trained provider', 'type': 'extractive', 'score': 0.06368725001811981, 'context': '\\nBreast self-examination is recommended to raise awareness of breast cancer. The practice   of BSE empowers women to take responsibility for their health. However this is  not a   substitute for examination by a trained provider', 'offsets_in_document': [{'start': 1016, 'end': 1243}], 'offsets_in_context': [{'start': 1, 'end': 228}], 'document_ids': ['578d364f89ccf698159c10991eee0a1d'], 'meta': {'name': 'asha_ncd-page-51.txt'}}>],\n",
       " 'documents': [<Document: {'content': 'ï¿½  Early onset of menstrual period. \\nï¿½  Late age at first child birth. \\nï¿½  Lack of physical activity. \\nï¿½  Shorter duration or no breastfeeding. \\nCommon Signs and Symptoms of Breast Cancer \\nï¿½  A change in size of the breasts. \\nï¿½  A nipple that is pulled in or changed in position or shape. \\nï¿½  A rash on or around the nipple. \\nï¿½  Discharge from one or both nipples. \\nï¿½  Puckering or dimpling of skin of the breasts. \\nï¿½  Lump or thickening in the breast. \\nï¿½  Constant pain in the breast or armpit. \\nWomen over 30 years should be screened by a trained provider, at least once in five years.   Those who have a family history of breast cancer should be encouraged to gets screened   more often.  \\nScreening for breast cancer can be done by a trained health workers such as an ANM at   the sub centre. This is called Clinical Breast examination. Any of the signs above should   be considered suspicious and the woman should be referred to a medical officer.  \\nWhat is Breast Self-Examination (BSE) \\nBreast self-examination is recommended to raise awareness of breast cancer. The practice   of BSE empowers women to take responsibility for their health. However this is  not a   substitute for examination by a trained provider.  \\nï¿½  7-10 days after the first day of the menstrual period. \\nï¿½  If not menstruating, pick a certain day - such as the first day of each month.  \\nï¿½  If taking hormones, then do it 1-2 days after withdrawal bleeding. ', 'content_type': 'text', 'score': 0.7519883409657644, 'meta': {'name': 'asha_ncd-page-51.txt'}, 'id_hash_keys': ['content'], 'embedding': None, 'id': '578d364f89ccf698159c10991eee0a1d'}>,\n",
       "  <Document: {'content': '60    |    Module for ASHA on Non-Communicable Diseases \\nPart B: Early Detection: Ask if Patient has any of these Symptoms \\nB1: Women and Men  Yes/No  B2: Women only  Yes/No \\nShortness of breath   Lump in the breast \\nCoughing more than 2 weeks  Blood stained discharge from the   nipple \\nBlood in sputum  Change in shape and size of breast \\nHistory of fits  Bleeding between periods \\nDifficulty in opening mouth  Bleeding after menopause \\nUlcers/patch/growth in the mouth that has   not healed in two weeks  Bleeding after intercourse \\nAny change in the tone of your voice  Foul smelling vaginal discharge \\nIn case the individual answers Yes to any one of the above-mentioned symptoms, refer the patient   immediately to the nearest facility where a Medical Officer is available.  \\nPart C: Circle all that Apply  \\nType of Fuel used for cooking â€“ Firewood/Crop Residue/Cow dung cake/Coal/Kerosene \\nOccupational exposure â€“ Crop residue burning/burning of garbage â€“ leaves/working in industries with smoke,   gas and dust exposure such as brick kilns and glass factories etc ', 'content_type': 'text', 'score': 0.7489369127206973, 'meta': {'name': 'asha_ncd-page-68.txt'}, 'id_hash_keys': ['content'], 'embedding': None, 'id': '9419976ac5ff99e98646a200d99c0333'}>],\n",
       " 'root_node': 'Query',\n",
       " 'params': {'Retriever': {'top_k': 2}, 'Reader': {'top_k': 10}},\n",
       " 'node_id': 'Reader'}"
      ]
     },
     "execution_count": 37,
     "metadata": {},
     "output_type": "execute_result"
    }
   ],
   "source": [
    "qry = \"lump in breast\"\n",
    "prediction = pipe.run(\n",
    "    query=qry, params={\"Retriever\": {\"top_k\": 2}, \"Reader\": {\"top_k\": 10}}\n",
    ")\n",
    "prediction"
   ]
  },
  {
   "cell_type": "code",
   "execution_count": 14,
   "metadata": {},
   "outputs": [
    {
     "name": "stderr",
     "output_type": "stream",
     "text": [
      "Inferencing Samples: 100%|██████████| 1/1 [00:04<00:00,  4.73s/ Batches]\n"
     ]
    },
    {
     "data": {
      "text/plain": [
       "{'query': 'diabetes',\n",
       " 'no_ans_gap': 5.494028568267822,\n",
       " 'answers': [<Answer {'answer': 'Type 1, Type 2 and Gestational Diabetes', 'type': 'extractive', 'score': 0.35358190536499023, 'context': '  you will learn about: \\n Different Types of Diabetes, (Type 1, Type 2 and Gestational Diabetes). \\n Risk Factors for Type 2 Diabetes. \\n Common Signs a', 'offsets_in_document': [{'start': 586, 'end': 625}], 'offsets_in_context': [{'start': 56, 'end': 95}], 'document_ids': ['d8dce559ba8874cfa42757da663065c2'], 'meta': {'name': 'asha_ncd-page-42.txt'}}>,\n",
       "  <Answer {'answer': 'Type 2 Diabetes', 'type': 'extractive', 'score': 0.31855764985084534, 'context': 'Types of Diabetes  What is it?  Who gets it? \\nType 2 Diabetes   This is the  most common   type  of diabetes. The body   produces some insulin, but   ', 'offsets_in_document': [{'start': 46, 'end': 61}], 'offsets_in_context': [{'start': 46, 'end': 61}], 'document_ids': ['f2834335a5fce97ffd4c78cdd9342636'], 'meta': {'name': 'asha_ncd-page-43.txt'}}>,\n",
       "  <Answer {'answer': 'ï¿', 'type': 'extractive', 'score': 0.04002682492136955, 'context': 'mon. \\nRisk Factors for Type 2 Diabetes \\nï¿½  Family history of diabetes. \\nï¿½  It occurs most frequently in adults, but is seen increasingly in adoles', 'offsets_in_document': [{'start': 850, 'end': 852}], 'offsets_in_context': [{'start': 74, 'end': 76}], 'document_ids': ['f2834335a5fce97ffd4c78cdd9342636'], 'meta': {'name': 'asha_ncd-page-43.txt'}}>],\n",
       " 'documents': [<Document: {'content': 'Types of Diabetes  What is it?  Who gets it? \\nType 2 Diabetes   This is the  most common   type  of diabetes. The body   produces some insulin, but   not enough.  \\nThis type of diabetes used   to be seen only in adults   but it is now also occurring   increasingly in children and   adolescents. It is seen in   those with a family history   of diabetes, excess body   weight, lack of physical   activity, and as people grow   older.  \\nGestational   Diabetes  Diabetes which occurs   among women during   pregnancy.  \\nHas a risk of complications   during pregnancy and   delivery The children of   women with Gestational   Diabetes are at an increased   risk of type 2 diabetes in the   future \\nIn this section, we will only discuss about Type 2 Diabetes as it is the most common. \\nRisk Factors for Type 2 Diabetes \\nï¿½  Family history of diabetes. \\nï¿½  It occurs most frequently in adults, but is seen increasingly in adolescents as well. \\nï¿½  Lack of physical activity. \\nï¿½  High levels of harmful blood fats.  \\nï¿½  Addictions like tobacco use, drug and harmful use of alcohol.  \\nï¿½  If the woman during pregnancy had diabetes or even mild elevation of blood sugar   level during pregnancy. ', 'content_type': 'text', 'score': 0.6640706110897904, 'meta': {'name': 'asha_ncd-page-43.txt'}, 'id_hash_keys': ['content'], 'embedding': None, 'id': 'f2834335a5fce97ffd4c78cdd9342636'}>,\n",
       "  <Document: {'content': '34    |    Module for ASHA on Non-Communicable Diseases \\nAll food that we eat is broken down into a sugar called glucose.   Glucose is carried by the blood to all the parts of the body to give   energy. The hormone which helps glucose move from the blood   into the cells, is called INSULIN.  \\nInsulin helps to keep the blood sugar levels normal. In diabetes, the   body does not produce insulin or cannot use the insulin properly.   The glucose builds up in the blood, resulting in high blood glucose   levels.  \\nIn this Chapter,  you will learn about: \\n Different Types of Diabetes, (Type 1, Type 2 and Gestational Diabetes). \\n Risk Factors for Type 2 Diabetes. \\n Common Signs and Symptoms for Type 2 Diabetes. \\n Estimation of Blood Glucose using Glucometer. \\n Management and Control of Diabetes. \\nTypes of Diabetes  What is it?  Who gets it? \\nType 1 Diabetes   Body does not produce   insulin at all. People with   this form of diabetes require   daily injections of insulin in   order to control the levels of   glucose in their blood.  \\nThe disease can affect   people of any age, but   usually starts in childhood or   young adults. \\nDiabetes is classified into three types namely Type 1, Type 2 and Gestational Diabetes. ', 'content_type': 'text', 'score': 0.6613038306789432, 'meta': {'name': 'asha_ncd-page-42.txt'}, 'id_hash_keys': ['content'], 'embedding': None, 'id': 'd8dce559ba8874cfa42757da663065c2'}>],\n",
       " 'root_node': 'Query',\n",
       " 'params': {'Retriever': {'top_k': 2}, 'Reader': {'top_k': 10}},\n",
       " 'node_id': 'Reader'}"
      ]
     },
     "execution_count": 14,
     "metadata": {},
     "output_type": "execute_result"
    }
   ],
   "source": [
    "qry = \"diabetes\"\n",
    "prediction = pipe.run(\n",
    "    query=qry, params={\"Retriever\": {\"top_k\": 2}, \"Reader\": {\"top_k\": 10}}\n",
    ")\n",
    "prediction"
   ]
  },
  {
   "cell_type": "code",
   "execution_count": null,
   "metadata": {},
   "outputs": [],
   "source": [
    "import re\n",
    "\n",
    "retJson = {}\n",
    "retJson['res'] = []\n",
    "\n",
    "for ans in prediction['answers']:\n",
    "  scr =ans.score\n",
    "  answer = ans.answer.replace(\"/square6\", \"#\").replace(\"\\n\", \"\")\n",
    "  context = re.split(\"[\\n>]\", ans.context.replace(\"/square6\", \"># \").replace(\"\\n\", \"\"))\n",
    "  retJson['res'].append({'score': scr, \"answer\": answer,  \"context\":context})"
   ]
  },
  {
   "cell_type": "code",
   "execution_count": null,
   "metadata": {},
   "outputs": [
    {
     "data": {
      "text/plain": [
       "{'res': [{'score': 0.1522972285747528,\n",
       "   'answer': 'smoking and smokeless forms',\n",
       "   'context': ['at are the Various Forms in which Tobacco is Used? There are smoking and smokeless forms of tobacco. ï¿½ ï¿½ Smoking tobacco can be in the form of c']},\n",
       "  {'score': 0.023050582036376,\n",
       "   'answer': '2',\n",
       "   'context': ['bacco and   alcohol to their health and the health of those around them.  2. Improve understanding of the money spent on tobacco and alcohol use and ']},\n",
       "  {'score': 0.018003644421696663,\n",
       "   'answer': '2. Improve understanding of the money spent on tobacco and alcohol use and   the likely costs of treatment needed if they were to fall ill.  3',\n",
       "   'context': ['.  2. Improve understanding of the money spent on tobacco and alcohol use and   the likely costs of treatment needed if they were to fall ill.  3. E']},\n",
       "  {'score': 0.01641761139035225,\n",
       "   'answer': '4. Work with individuals who use tobacco and alcohol and motivate them to   quit these habits by explaining the harmful consequences of tobacco and   alcohol use. Request the Male Multipurpose worker/ASHA Facilitator or   male volunteers in your community to support you.  5. Work with the VHSNC to undertake community activities to see how   many young people use tobacco and alcohol and share this information in   community. With the VHSNC you can organise community action against   the availability of tobacco and alcohol - like set-up of shops, illegal supply and   production of tobacco and alcohol in the community. This demands building   solidarity and support for this cause from various womenâ€',\n",
       "   'context': ['4. Work with individuals who use tobacco and alcohol and motivate them to   quit these habits by explaining the harmful consequences of tobacco and   alcohol use. Request the Male Multipurpose worker/ASHA Facilitator or   male volunteers in your community to support you.  5. Work with the VHSNC to undertake community activities to see how   many young people use tobacco and alcohol and share this information in   community. With the VHSNC you can organise community action against   the availability of tobacco and alcohol - like set-up of shops, illegal supply and   production of tobacco and alcohol in the community. This demands building   solidarity and support for this cause from various womenâ€']}]}"
      ]
     },
     "execution_count": 22,
     "metadata": {},
     "output_type": "execute_result"
    }
   ],
   "source": [
    "retJson"
   ]
  },
  {
   "cell_type": "code",
   "execution_count": null,
   "metadata": {},
   "outputs": [],
   "source": []
  },
  {
   "cell_type": "code",
   "execution_count": null,
   "metadata": {},
   "outputs": [],
   "source": []
  }
 ],
 "metadata": {
  "kernelspec": {
   "display_name": "venv",
   "language": "python",
   "name": "python3"
  },
  "language_info": {
   "codemirror_mode": {
    "name": "ipython",
    "version": 3
   },
   "file_extension": ".py",
   "mimetype": "text/x-python",
   "name": "python",
   "nbconvert_exporter": "python",
   "pygments_lexer": "ipython3",
   "version": "3.11.3"
  }
 },
 "nbformat": 4,
 "nbformat_minor": 2
}
