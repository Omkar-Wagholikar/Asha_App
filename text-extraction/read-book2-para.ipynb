{
 "cells": [
  {
   "cell_type": "code",
   "execution_count": 3,
   "metadata": {},
   "outputs": [],
   "source": [
    "from operator import itemgetter\n",
    "import fitz\n",
    "import json"
   ]
  },
  {
   "cell_type": "code",
   "execution_count": 4,
   "metadata": {},
   "outputs": [],
   "source": [
    "def fonts(doc, granularity=False):\n",
    "    \"\"\"Extracts fonts and their usage in PDF documents.\n",
    "\n",
    "    :param doc: PDF document to iterate through\n",
    "    :type doc: <class 'fitz.fitz.Document'>\n",
    "    :param granularity: also use 'font', 'flags' and 'color' to discriminate text\n",
    "    :type granularity: bool\n",
    "\n",
    "    :rtype: [(font_size, count), (font_size, count}], dict\n",
    "    :return: most used fonts sorted by count, font style information\n",
    "    \"\"\"\n",
    "    styles = {}\n",
    "    font_counts = {}\n",
    "\n",
    "    for page in doc:\n",
    "        blocks = page.get_text(\"dict\")[\"blocks\"]\n",
    "        for b in blocks:  # iterate through the text blocks\n",
    "            if b['type'] == 0:  # block contains text\n",
    "                for l in b[\"lines\"]:  # iterate through the text lines\n",
    "                    for s in l[\"spans\"]:  # iterate through the text spans\n",
    "                        if granularity:\n",
    "                            identifier = \"{0}_{1}_{2}_{3}\".format(s['size'], s['flags'], s['font'], s['color'])\n",
    "                            styles[identifier] = {'size': s['size'], 'flags': s['flags'], 'font': s['font'],\n",
    "                                                  'color': s['color']}\n",
    "                        else:\n",
    "                            identifier = \"{0}\".format(s['size'])\n",
    "                            styles[identifier] = {'size': s['size'], 'font': s['font']}\n",
    "\n",
    "                        font_counts[identifier] = font_counts.get(identifier, 0) + 1  # count the fonts usage\n",
    "\n",
    "    font_counts = sorted(font_counts.items(), key=itemgetter(1), reverse=True)\n",
    "\n",
    "    if len(font_counts) < 1:\n",
    "        raise ValueError(\"Zero discriminating fonts found!\")\n",
    "\n",
    "    return font_counts, styles"
   ]
  },
  {
   "cell_type": "code",
   "execution_count": 5,
   "metadata": {},
   "outputs": [],
   "source": [
    "def font_tags(font_counts, styles):\n",
    "    \"\"\"Returns dictionary with font sizes as keys and tags as value.\n",
    "\n",
    "    :param font_counts: (font_size, count) for all fonts occuring in document\n",
    "    :type font_counts: list\n",
    "    :param styles: all styles found in the document\n",
    "    :type styles: dict\n",
    "\n",
    "    :rtype: dict\n",
    "    :return: all element tags based on font-sizes\n",
    "    \"\"\"\n",
    "    p_style = styles[font_counts[0][0]]  # get style for most used font by count (paragraph)\n",
    "    p_size = p_style['size']  # get the paragraph's size\n",
    "\n",
    "    # sorting the font sizes high to low, so that we can append the right integer to each tag\n",
    "    font_sizes = []\n",
    "    for (font_size, count) in font_counts:\n",
    "        font_sizes.append(float(font_size))\n",
    "    font_sizes.sort(reverse=True)\n",
    "\n",
    "    # aggregating the tags for each font size\n",
    "    idx = 0\n",
    "    size_tag = {}\n",
    "    for size in font_sizes:\n",
    "        idx += 1\n",
    "        if size == p_size:\n",
    "            idx = 0\n",
    "            size_tag[size] = '<p>'\n",
    "        if size > p_size:\n",
    "            size_tag[size] = '<h{0}>'.format(idx)\n",
    "        elif size < p_size:\n",
    "            size_tag[size] = '<s{0}>'.format(idx)\n",
    "\n",
    "    return size_tag"
   ]
  },
  {
   "cell_type": "code",
   "execution_count": 6,
   "metadata": {},
   "outputs": [],
   "source": [
    "def headers_para(doc, name):\n",
    "    header_para = []  # list with headers and paragraphs\n",
    "    first = True  # boolean operator for first header\n",
    "    previous_s = {}  # previous span\n",
    "    count = 0\n",
    "    currSize = -1\n",
    "    nums = [13, 14, 15]\n",
    "    parNum = 0\n",
    "    totalText = \"\"\n",
    "    \n",
    "    for i in range(len(doc)):\n",
    "    # for i in nums:\n",
    "        print(f\"ENTERING PAGE {i}\")\n",
    "        page = doc[i]\n",
    "        block = page.get_text(\"dict\")\n",
    "        blocks = block['blocks']\n",
    "        parNum = 0\n",
    "        for b in blocks:\n",
    "            if b['type'] == 0:\n",
    "                for line in b['lines']:\n",
    "                    for span in line['spans']:\n",
    "                        if currSize == span['size']:\n",
    "                            totalText += \" \" + span['text'] + \"\\n\"\n",
    "                        else:\n",
    "                            if len(totalText) in [0, 1]:\n",
    "                                currSize = span['size']\n",
    "                                totalText = span['text']\n",
    "                                continue\n",
    "\n",
    "                            with open(f\"C:/Users/DELL/Desktop/Asha/text-as-page/{name}_page{i+1}_para{parNum+1}.txt\", 'w', encoding='utf-8') as text_file:\n",
    "                                # print(text_file)\n",
    "                                text_file.write(str(currSize))\n",
    "                                text_file.write(totalText)\n",
    "                            parNum +=1\n",
    "                            currSize = span['size']\n",
    "                            totalText = span['text']\n",
    "\n",
    "    return header_para"
   ]
  },
  {
   "cell_type": "code",
   "execution_count": 7,
   "metadata": {},
   "outputs": [
    {
     "name": "stdout",
     "output_type": "stream",
     "text": [
      "ENTERING PAGE 0\n",
      "ENTERING PAGE 1\n",
      "ENTERING PAGE 2\n",
      "ENTERING PAGE 3\n",
      "ENTERING PAGE 4\n",
      "ENTERING PAGE 5\n",
      "ENTERING PAGE 6\n",
      "ENTERING PAGE 7\n",
      "ENTERING PAGE 8\n",
      "ENTERING PAGE 9\n",
      "ENTERING PAGE 10\n",
      "ENTERING PAGE 11\n",
      "ENTERING PAGE 12\n",
      "ENTERING PAGE 13\n",
      "ENTERING PAGE 14\n",
      "ENTERING PAGE 15\n",
      "ENTERING PAGE 16\n",
      "ENTERING PAGE 17\n",
      "ENTERING PAGE 18\n",
      "ENTERING PAGE 19\n",
      "ENTERING PAGE 20\n",
      "ENTERING PAGE 21\n",
      "ENTERING PAGE 22\n",
      "ENTERING PAGE 23\n",
      "ENTERING PAGE 24\n",
      "ENTERING PAGE 25\n",
      "ENTERING PAGE 26\n",
      "ENTERING PAGE 27\n",
      "ENTERING PAGE 28\n",
      "ENTERING PAGE 29\n",
      "ENTERING PAGE 30\n",
      "ENTERING PAGE 31\n",
      "ENTERING PAGE 32\n",
      "[]\n"
     ]
    }
   ],
   "source": [
    "name = \"book-no-4\"\n",
    "\n",
    "document = f'C:/Users/DELL/Desktop/Asha/pdfs/{name}.pdf'\n",
    "\n",
    "# document = \"C:/Users/DELL/Desktop/Sem 5 Text Books/DS Elective/Distributed Systems.pdf\"\n",
    "# name = \"DS\"\n",
    "\n",
    "doc = fitz.open(document)\n",
    "\n",
    "font_counts, styles = fonts(doc, granularity=False)\n",
    "\n",
    "# size_tag = font_tags(font_counts, styles)\n",
    "\n",
    "elements = headers_para(doc, name)\n",
    "print(elements)"
   ]
  },
  {
   "cell_type": "code",
   "execution_count": 8,
   "metadata": {},
   "outputs": [],
   "source": [
    "# with open(\"C:/Users/DELL/Desktop/Asha/text-as-page/test.txt\", 'w') as json_out:\n",
    "#     json.dump(elements, json_out)"
   ]
  },
  {
   "cell_type": "code",
   "execution_count": 9,
   "metadata": {},
   "outputs": [],
   "source": [
    "# size_tag"
   ]
  },
  {
   "cell_type": "code",
   "execution_count": 1,
   "metadata": {},
   "outputs": [
    {
     "name": "stdout",
     "output_type": "stream",
     "text": [
      "All files in the folder have been deleted.\n"
     ]
    }
   ],
   "source": [
    "# # # # # Clear the folder\n",
    "# import os\n",
    "\n",
    "# folder_path = \"C:/Users/DELL/Desktop/Asha/text-as-page\"  # Replace with the path to your folder\n",
    "\n",
    "# # Iterate over the files in the folder and delete them\n",
    "# for filename in os.listdir(folder_path):\n",
    "#     file_path = os.path.join(folder_path, filename)\n",
    "#     try:\n",
    "#         if os.path.isfile(file_path):\n",
    "#             os.remove(file_path)\n",
    "#     except Exception as e:\n",
    "#         print(f\"Error deleting {file_path}: {e}\")\n",
    "\n",
    "# print(\"All files in the folder have been deleted.\")"
   ]
  },
  {
   "cell_type": "code",
   "execution_count": null,
   "metadata": {},
   "outputs": [],
   "source": []
  }
 ],
 "metadata": {
  "kernelspec": {
   "display_name": "Python 3 (ipykernel)",
   "language": "python",
   "name": "python3"
  },
  "language_info": {
   "codemirror_mode": {
    "name": "ipython",
    "version": 3
   },
   "file_extension": ".py",
   "mimetype": "text/x-python",
   "name": "python",
   "nbconvert_exporter": "python",
   "pygments_lexer": "ipython3",
   "version": "3.11.3"
  }
 },
 "nbformat": 4,
 "nbformat_minor": 4
}
